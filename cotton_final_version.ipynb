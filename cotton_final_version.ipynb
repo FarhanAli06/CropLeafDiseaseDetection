{
  "metadata": {
    "kernelspec": {
      "language": "python",
      "display_name": "Python 3",
      "name": "python3"
    },
    "language_info": {
      "name": "python",
      "version": "3.7.12",
      "mimetype": "text/x-python",
      "codemirror_mode": {
        "name": "ipython",
        "version": 3
      },
      "pygments_lexer": "ipython3",
      "nbconvert_exporter": "python",
      "file_extension": ".py"
    },
    "colab": {
      "provenance": []
    }
  },
  "nbformat_minor": 0,
  "nbformat": 4,
  "cells": [
    {
      "cell_type": "code",
      "source": [
        "#importing libraries\n",
        "import tensorflow as tf #deep learning lib\n",
        "from tensorflow.keras import models,layers\n",
        "import matplotlib.pyplot as plt #plotting our plots"
      ],
      "metadata": {
        "execution": {
          "iopub.status.busy": "2022-06-08T15:39:53.439548Z",
          "iopub.execute_input": "2022-06-08T15:39:53.440407Z",
          "iopub.status.idle": "2022-06-08T15:39:59.848646Z",
          "shell.execute_reply.started": "2022-06-08T15:39:53.440289Z",
          "shell.execute_reply": "2022-06-08T15:39:59.847680Z"
        },
        "trusted": true,
        "id": "Yejh3v5NhNx9"
      },
      "execution_count": 1,
      "outputs": []
    },
    {
      "cell_type": "code",
      "source": [
        "import keras #for using keras preprocessing and other functions"
      ],
      "metadata": {
        "execution": {
          "iopub.status.busy": "2022-06-08T15:39:59.850394Z",
          "iopub.execute_input": "2022-06-08T15:39:59.850752Z",
          "iopub.status.idle": "2022-06-08T15:39:59.857797Z",
          "shell.execute_reply.started": "2022-06-08T15:39:59.850710Z",
          "shell.execute_reply": "2022-06-08T15:39:59.855893Z"
        },
        "trusted": true,
        "id": "Knb-dAdjhNyC"
      },
      "execution_count": 2,
      "outputs": []
    },
    {
      "cell_type": "code",
      "source": [
        "#input size\n",
        "img_size = 255\n",
        "batches = 32\n",
        "channels = 3\n"
      ],
      "metadata": {
        "execution": {
          "iopub.status.busy": "2022-06-08T15:39:59.860080Z",
          "iopub.execute_input": "2022-06-08T15:39:59.860833Z",
          "iopub.status.idle": "2022-06-08T15:39:59.872307Z",
          "shell.execute_reply.started": "2022-06-08T15:39:59.860796Z",
          "shell.execute_reply": "2022-06-08T15:39:59.871585Z"
        },
        "trusted": true,
        "id": "RwGMCgtghNyD"
      },
      "execution_count": 3,
      "outputs": []
    },
    {
      "cell_type": "code",
      "source": [
        "from google.colab import drive\n",
        "drive.mount('/content/drive')"
      ],
      "metadata": {
        "colab": {
          "base_uri": "https://localhost:8080/"
        },
        "id": "tiUHrpF3rf7e",
        "outputId": "80e9abf0-3f08-4522-f4a2-2efe1c826450"
      },
      "execution_count": 4,
      "outputs": [
        {
          "output_type": "stream",
          "name": "stdout",
          "text": [
            "Mounted at /content/drive\n"
          ]
        }
      ]
    },
    {
      "cell_type": "code",
      "execution_count": 5,
      "metadata": {
        "execution": {
          "iopub.execute_input": "2022-06-08T11:58:53.491606Z",
          "iopub.status.busy": "2022-06-08T11:58:53.491303Z",
          "iopub.status.idle": "2022-06-08T11:58:53.494909Z",
          "shell.execute_reply": "2022-06-08T11:58:53.494234Z",
          "shell.execute_reply.started": "2022-06-08T11:58:53.491579Z"
        },
        "id": "_HicTBGHmnVp"
      },
      "outputs": [],
      "source": [
        "import os\n",
        "os.environ['KAGGLE_CONFIG_DIR'] = \"/content/drive/MyDrive/july2023/Farhan_crop_disease/code/data/cotton\"\n",
        "# /content/gdrive/My Drive/Kaggle is the path where kaggle.json is present in the Google Drive"
      ]
    },
    {
      "cell_type": "code",
      "source": [
        "#changing the working directory\n",
        "%cd /content/drive/MyDrive/july2023/Farhan_crop_disease/code/data/cotton\n",
        "#Check the present working directory using pwd command"
      ],
      "metadata": {
        "colab": {
          "base_uri": "https://localhost:8080/"
        },
        "id": "l83po-7kr3_c",
        "outputId": "64e45662-a3a3-48f9-902e-85c7db624911"
      },
      "execution_count": 6,
      "outputs": [
        {
          "output_type": "stream",
          "name": "stdout",
          "text": [
            "/content/drive/MyDrive/july2023/Farhan_crop_disease/code/data/cotton\n"
          ]
        }
      ]
    },
    {
      "cell_type": "code",
      "source": [
        "!kaggle datasets download -d janmejaybhoi/cotton-disease-dataset"
      ],
      "metadata": {
        "colab": {
          "base_uri": "https://localhost:8080/"
        },
        "id": "E2FarlRQquNW",
        "outputId": "7ab702dc-943b-4faf-fd3e-3b5d2571c38b"
      },
      "execution_count": 10,
      "outputs": [
        {
          "output_type": "stream",
          "name": "stdout",
          "text": [
            "Downloading cotton-disease-dataset.zip to /content/drive/MyDrive/july2023/Farhan_crop_disease/code/data/cotton\n",
            " 93% 138M/148M [00:01<00:00, 107MB/s] \n",
            "100% 148M/148M [00:01<00:00, 82.0MB/s]\n"
          ]
        }
      ]
    },
    {
      "cell_type": "code",
      "source": [
        "#unzipping the zip files and deleting the zip files\n",
        "!unzip \\*.zip  && rm *.zip"
      ],
      "metadata": {
        "colab": {
          "base_uri": "https://localhost:8080/"
        },
        "id": "P_DJpsSksUce",
        "outputId": "1c96399a-7bb4-4a04-c732-d50f9058ba05"
      },
      "execution_count": 9,
      "outputs": [
        {
          "output_type": "stream",
          "name": "stdout",
          "text": [
            "unzip:  cannot find or open *.zip, *.zip.zip or *.zip.ZIP.\n",
            "\n",
            "No zipfiles found.\n"
          ]
        }
      ]
    },
    {
      "cell_type": "code",
      "source": [
        "#creating batches for train , val , test\n",
        "training_ds = tf.keras.preprocessing.image_dataset_from_directory(\n",
        "    \"/content/drive/MyDrive/july2023/Farhan_crop_disease/code/data/cotton/Cotton Disease/train\",\n",
        "    shuffle = True,\n",
        "    image_size =(img_size,img_size),\n",
        "    batch_size = batches,\n",
        ")\n",
        "\n",
        "testing_ds = tf.keras.preprocessing.image_dataset_from_directory(\n",
        "    \"/content/drive/MyDrive/july2023/Farhan_crop_disease/code/data/cotton/Cotton Disease/test\",\n",
        "    shuffle = True,\n",
        "    image_size =(img_size,img_size),\n",
        "    batch_size = batches,\n",
        "\n",
        ")\n",
        "\n",
        "valid_ds = tf.keras.preprocessing.image_dataset_from_directory(\n",
        "    \"/content/drive/MyDrive/july2023/Farhan_crop_disease/code/data/cotton/Cotton Disease/val\",\n",
        "    shuffle = True,\n",
        "    image_size =(img_size,img_size),\n",
        "    batch_size = batches,\n",
        "\n",
        ")\n",
        "\n"
      ],
      "metadata": {
        "execution": {
          "iopub.status.busy": "2022-06-08T15:39:59.874897Z",
          "iopub.execute_input": "2022-06-08T15:39:59.875236Z",
          "iopub.status.idle": "2022-06-08T15:40:03.368220Z",
          "shell.execute_reply.started": "2022-06-08T15:39:59.875171Z",
          "shell.execute_reply": "2022-06-08T15:40:03.367472Z"
        },
        "trusted": true,
        "colab": {
          "base_uri": "https://localhost:8080/"
        },
        "id": "uwRK-EWkhNyE",
        "outputId": "c0c3d92f-fdf4-4882-c9a2-727b759217db"
      },
      "execution_count": 10,
      "outputs": [
        {
          "output_type": "stream",
          "name": "stdout",
          "text": [
            "Found 1951 files belonging to 4 classes.\n",
            "Found 106 files belonging to 4 classes.\n",
            "Found 253 files belonging to 4 classes.\n"
          ]
        }
      ]
    },
    {
      "cell_type": "code",
      "source": [
        "len(training_ds),len(valid_ds),len(testing_ds)"
      ],
      "metadata": {
        "execution": {
          "iopub.status.busy": "2022-06-08T15:40:03.369494Z",
          "iopub.execute_input": "2022-06-08T15:40:03.369904Z",
          "iopub.status.idle": "2022-06-08T15:40:03.379650Z",
          "shell.execute_reply.started": "2022-06-08T15:40:03.369856Z",
          "shell.execute_reply": "2022-06-08T15:40:03.378713Z"
        },
        "trusted": true,
        "colab": {
          "base_uri": "https://localhost:8080/"
        },
        "id": "-WWNVkEOhNyF",
        "outputId": "9adec91c-1e3b-43d1-909f-8aea911f9c71"
      },
      "execution_count": 11,
      "outputs": [
        {
          "output_type": "execute_result",
          "data": {
            "text/plain": [
              "(61, 8, 4)"
            ]
          },
          "metadata": {},
          "execution_count": 11
        }
      ]
    },
    {
      "cell_type": "markdown",
      "source": [
        "### optimizing"
      ],
      "metadata": {
        "id": "mnt1BijIhNyG"
      }
    },
    {
      "cell_type": "code",
      "source": [
        "train_ds = training_ds.cache().shuffle(1000).prefetch(buffer_size = tf.data.experimental.AUTOTUNE)\n",
        "valid_ds = valid_ds.cache().shuffle(1000).prefetch(buffer_size = tf.data.experimental.AUTOTUNE)\n",
        "test_ds = testing_ds.cache().shuffle(1000).prefetch(buffer_size = tf.data.experimental.AUTOTUNE )"
      ],
      "metadata": {
        "execution": {
          "iopub.status.busy": "2022-06-08T15:40:03.381444Z",
          "iopub.execute_input": "2022-06-08T15:40:03.381793Z",
          "iopub.status.idle": "2022-06-08T15:40:03.391393Z",
          "shell.execute_reply.started": "2022-06-08T15:40:03.381756Z",
          "shell.execute_reply": "2022-06-08T15:40:03.390627Z"
        },
        "trusted": true,
        "id": "DNM0vmIXhNyI"
      },
      "execution_count": 12,
      "outputs": []
    },
    {
      "cell_type": "markdown",
      "source": [
        "### Data Augmentation"
      ],
      "metadata": {
        "id": "tXnTSOw6hNyJ"
      }
    },
    {
      "cell_type": "code",
      "source": [
        "data_augmentations = tf.keras.Sequential([\n",
        "    layers.experimental.preprocessing.Resizing(img_size,img_size),\n",
        "    layers.experimental.preprocessing.Rescaling(1.0/img_size),\n",
        "    layers.experimental.preprocessing.RandomFlip(\"horizontal_and_vertical\"),\n",
        "    layers.experimental.preprocessing.RandomRotation(0.2)\n",
        "\n",
        "])"
      ],
      "metadata": {
        "execution": {
          "iopub.status.busy": "2022-06-08T15:40:03.392713Z",
          "iopub.execute_input": "2022-06-08T15:40:03.393421Z",
          "iopub.status.idle": "2022-06-08T15:40:03.426497Z",
          "shell.execute_reply.started": "2022-06-08T15:40:03.393384Z",
          "shell.execute_reply": "2022-06-08T15:40:03.425854Z"
        },
        "trusted": true,
        "id": "bgIToJXyhNyK"
      },
      "execution_count": 13,
      "outputs": []
    },
    {
      "cell_type": "markdown",
      "source": [
        "### Creating model"
      ],
      "metadata": {
        "id": "icsE9u7nhNyK"
      }
    },
    {
      "cell_type": "code",
      "source": [
        "inputshape = (batches ,img_size , img_size , 3)\n",
        "classes = 4\n",
        "\n",
        "plant_model = keras.models.Sequential([\n",
        "    data_augmentations,\n",
        "    layers.Conv2D(filters = 32 , kernel_size = (3 , 3),activation = 'relu' , input_shape = inputshape),\n",
        "    layers.MaxPooling2D(pool_size = (2,2)),\n",
        "    layers.Conv2D(filters = 64 , kernel_size = (3,3)  , activation ='relu'),\n",
        "    layers.MaxPooling2D(pool_size = (2,2)),\n",
        "    layers.Conv2D(filters = 128 , kernel_size = (3,3) , activation = 'relu'),\n",
        "    layers.MaxPooling2D(pool_size = (2,2)),\n",
        "    layers.Conv2D(filters = 256, kernel_size = (3,3) , activation = 'relu'),\n",
        "    layers.MaxPooling2D(pool_size = (2,2)),\n",
        "\n",
        "    layers.Dropout(0.5),\n",
        "    layers.Flatten(),\n",
        "    layers.Dense(units = 128 , activation = 'relu'),\n",
        "    layers.Dropout(0.1),\n",
        "    layers.Dense(units = 128 , activation = 'relu'),\n",
        "    layers.Dropout(0.25),\n",
        "    layers.Dense(units = classes , activation = 'softmax'),\n",
        "\n",
        "])\n",
        "\n",
        "plant_model.build(input_shape = inputshape)"
      ],
      "metadata": {
        "execution": {
          "iopub.status.busy": "2022-06-08T15:40:03.427904Z",
          "iopub.execute_input": "2022-06-08T15:40:03.428285Z",
          "iopub.status.idle": "2022-06-08T15:40:03.710451Z",
          "shell.execute_reply.started": "2022-06-08T15:40:03.428249Z",
          "shell.execute_reply": "2022-06-08T15:40:03.709761Z"
        },
        "trusted": true,
        "id": "SNOVBHb1hNyL"
      },
      "execution_count": 14,
      "outputs": []
    },
    {
      "cell_type": "code",
      "source": [
        "plant_model.compile(optimizer = 'adam', loss = tf.keras.losses.SparseCategoricalCrossentropy(from_logits=False) , metrics = ['accuracy'])"
      ],
      "metadata": {
        "execution": {
          "iopub.status.busy": "2022-06-08T15:40:03.711522Z",
          "iopub.execute_input": "2022-06-08T15:40:03.713229Z",
          "iopub.status.idle": "2022-06-08T15:40:03.727532Z",
          "shell.execute_reply.started": "2022-06-08T15:40:03.713200Z",
          "shell.execute_reply": "2022-06-08T15:40:03.726929Z"
        },
        "trusted": true,
        "id": "lpcyco-xhNyL"
      },
      "execution_count": 15,
      "outputs": []
    },
    {
      "cell_type": "markdown",
      "source": [
        "### Model params"
      ],
      "metadata": {
        "id": "rHe_F09chNyM"
      }
    },
    {
      "cell_type": "code",
      "source": [
        "plant_model.summary()"
      ],
      "metadata": {
        "execution": {
          "iopub.status.busy": "2022-06-08T15:40:03.730279Z",
          "iopub.execute_input": "2022-06-08T15:40:03.730494Z",
          "iopub.status.idle": "2022-06-08T15:40:03.744943Z",
          "shell.execute_reply.started": "2022-06-08T15:40:03.730462Z",
          "shell.execute_reply": "2022-06-08T15:40:03.744320Z"
        },
        "trusted": true,
        "colab": {
          "base_uri": "https://localhost:8080/"
        },
        "id": "rOFdcYfThNyM",
        "outputId": "84418b8b-70d4-4f58-a162-0a5399a5f2d1"
      },
      "execution_count": 16,
      "outputs": [
        {
          "output_type": "stream",
          "name": "stdout",
          "text": [
            "Model: \"sequential_1\"\n",
            "_________________________________________________________________\n",
            " Layer (type)                Output Shape              Param #   \n",
            "=================================================================\n",
            " sequential (Sequential)     (32, 255, 255, 3)         0         \n",
            "                                                                 \n",
            " conv2d (Conv2D)             (32, 253, 253, 32)        896       \n",
            "                                                                 \n",
            " max_pooling2d (MaxPooling2  (32, 126, 126, 32)        0         \n",
            " D)                                                              \n",
            "                                                                 \n",
            " conv2d_1 (Conv2D)           (32, 124, 124, 64)        18496     \n",
            "                                                                 \n",
            " max_pooling2d_1 (MaxPoolin  (32, 62, 62, 64)          0         \n",
            " g2D)                                                            \n",
            "                                                                 \n",
            " conv2d_2 (Conv2D)           (32, 60, 60, 128)         73856     \n",
            "                                                                 \n",
            " max_pooling2d_2 (MaxPoolin  (32, 30, 30, 128)         0         \n",
            " g2D)                                                            \n",
            "                                                                 \n",
            " conv2d_3 (Conv2D)           (32, 28, 28, 256)         295168    \n",
            "                                                                 \n",
            " max_pooling2d_3 (MaxPoolin  (32, 14, 14, 256)         0         \n",
            " g2D)                                                            \n",
            "                                                                 \n",
            " dropout (Dropout)           (32, 14, 14, 256)         0         \n",
            "                                                                 \n",
            " flatten (Flatten)           (32, 50176)               0         \n",
            "                                                                 \n",
            " dense (Dense)               (32, 128)                 6422656   \n",
            "                                                                 \n",
            " dropout_1 (Dropout)         (32, 128)                 0         \n",
            "                                                                 \n",
            " dense_1 (Dense)             (32, 128)                 16512     \n",
            "                                                                 \n",
            " dropout_2 (Dropout)         (32, 128)                 0         \n",
            "                                                                 \n",
            " dense_2 (Dense)             (32, 4)                   516       \n",
            "                                                                 \n",
            "=================================================================\n",
            "Total params: 6828100 (26.05 MB)\n",
            "Trainable params: 6828100 (26.05 MB)\n",
            "Non-trainable params: 0 (0.00 Byte)\n",
            "_________________________________________________________________\n"
          ]
        }
      ]
    },
    {
      "cell_type": "markdown",
      "source": [
        "### Training"
      ],
      "metadata": {
        "id": "9cuRF9LqhNyN"
      }
    },
    {
      "cell_type": "code",
      "source": [
        "EPOCHS = 300"
      ],
      "metadata": {
        "execution": {
          "iopub.status.busy": "2022-06-08T15:40:03.747407Z",
          "iopub.execute_input": "2022-06-08T15:40:03.747583Z",
          "iopub.status.idle": "2022-06-08T15:40:03.750833Z",
          "shell.execute_reply.started": "2022-06-08T15:40:03.747561Z",
          "shell.execute_reply": "2022-06-08T15:40:03.750143Z"
        },
        "trusted": true,
        "id": "SUGKAy3LhNyN"
      },
      "execution_count": 17,
      "outputs": []
    },
    {
      "cell_type": "code",
      "source": [
        "#saving models everytime we get a better val_accuracy\n",
        "checkpoint_filepath = 'weights.{epoch:02d}-{val_loss:.2f}.h5'"
      ],
      "metadata": {
        "execution": {
          "iopub.status.busy": "2022-06-08T15:40:03.752121Z",
          "iopub.execute_input": "2022-06-08T15:40:03.752457Z",
          "iopub.status.idle": "2022-06-08T15:40:03.758435Z",
          "shell.execute_reply.started": "2022-06-08T15:40:03.752344Z",
          "shell.execute_reply": "2022-06-08T15:40:03.757604Z"
        },
        "trusted": true,
        "id": "7ZoI2MEBhNyN"
      },
      "execution_count": 18,
      "outputs": []
    },
    {
      "cell_type": "code",
      "source": [
        "model_checkpoint_callback = keras.callbacks.ModelCheckpoint(\n",
        "    filepath=checkpoint_filepath,\n",
        "    monitor='val_accuracy',\n",
        "    mode='max',\n",
        "    save_best_only=True)"
      ],
      "metadata": {
        "execution": {
          "iopub.status.busy": "2022-06-08T15:40:03.759844Z",
          "iopub.execute_input": "2022-06-08T15:40:03.760190Z",
          "iopub.status.idle": "2022-06-08T15:40:03.767493Z",
          "shell.execute_reply.started": "2022-06-08T15:40:03.760157Z",
          "shell.execute_reply": "2022-06-08T15:40:03.766635Z"
        },
        "trusted": true,
        "id": "CtT7H3KYhNyN"
      },
      "execution_count": 19,
      "outputs": []
    },
    {
      "cell_type": "code",
      "source": [
        "history = plant_model.fit(\n",
        "    train_ds,\n",
        "    callbacks = [model_checkpoint_callback],\n",
        "    epochs = EPOCHS,\n",
        "    verbose = 1,\n",
        "    validation_data = valid_ds\n",
        ")"
      ],
      "metadata": {
        "execution": {
          "iopub.status.busy": "2022-06-08T15:40:03.768638Z",
          "iopub.execute_input": "2022-06-08T15:40:03.768964Z",
          "iopub.status.idle": "2022-06-08T15:55:35.831421Z",
          "shell.execute_reply.started": "2022-06-08T15:40:03.768928Z",
          "shell.execute_reply": "2022-06-08T15:55:35.830711Z"
        },
        "trusted": true,
        "id": "KAsvaGt1hNyN",
        "outputId": "1a8afdb6-a9a9-46ad-f75e-f3c7b859ff52"
      },
      "execution_count": null,
      "outputs": [
        {
          "name": "stdout",
          "text": "Epoch 1/300\n",
          "output_type": "stream"
        },
        {
          "name": "stderr",
          "text": "2022-06-08 15:40:04.660140: I tensorflow/compiler/mlir/mlir_graph_optimization_pass.cc:185] None of the MLIR Optimization Passes are enabled (registered 2)\n2022-06-08 15:40:14.923892: I tensorflow/core/kernels/data/shuffle_dataset_op.cc:175] Filling up shuffle buffer (this may take a while): 52 of 1000\n2022-06-08 15:40:15.211827: I tensorflow/core/kernels/data/shuffle_dataset_op.cc:228] Shuffle buffer filled.\n2022-06-08 15:40:15.997234: I tensorflow/stream_executor/cuda/cuda_dnn.cc:369] Loaded cuDNN version 8005\n",
          "output_type": "stream"
        },
        {
          "name": "stdout",
          "text": "61/61 [==============================] - 24s 82ms/step - loss: 1.1626 - accuracy: 0.4921 - val_loss: 1.0063 - val_accuracy: 0.5494\nEpoch 2/300\n61/61 [==============================] - 3s 41ms/step - loss: 0.9926 - accuracy: 0.5971 - val_loss: 1.1936 - val_accuracy: 0.5217\nEpoch 3/300\n61/61 [==============================] - 2s 41ms/step - loss: 0.8557 - accuracy: 0.6494 - val_loss: 0.7099 - val_accuracy: 0.7984\nEpoch 4/300\n61/61 [==============================] - 3s 41ms/step - loss: 0.6361 - accuracy: 0.7319 - val_loss: 0.4528 - val_accuracy: 0.7826\nEpoch 5/300\n61/61 [==============================] - 2s 41ms/step - loss: 0.5463 - accuracy: 0.7714 - val_loss: 0.4158 - val_accuracy: 0.8340\nEpoch 6/300\n61/61 [==============================] - 3s 42ms/step - loss: 0.4846 - accuracy: 0.8047 - val_loss: 0.3567 - val_accuracy: 0.8577\nEpoch 7/300\n61/61 [==============================] - 2s 41ms/step - loss: 0.4925 - accuracy: 0.7970 - val_loss: 0.2972 - val_accuracy: 0.8814\nEpoch 8/300\n61/61 [==============================] - 3s 41ms/step - loss: 0.3953 - accuracy: 0.8421 - val_loss: 0.2890 - val_accuracy: 0.8972\nEpoch 9/300\n61/61 [==============================] - 3s 43ms/step - loss: 0.3428 - accuracy: 0.8606 - val_loss: 0.2880 - val_accuracy: 0.8893\nEpoch 10/300\n61/61 [==============================] - 3s 42ms/step - loss: 0.3265 - accuracy: 0.8739 - val_loss: 0.2710 - val_accuracy: 0.9012\nEpoch 11/300\n61/61 [==============================] - 3s 42ms/step - loss: 0.2887 - accuracy: 0.8831 - val_loss: 0.2140 - val_accuracy: 0.9209\nEpoch 12/300\n61/61 [==============================] - 2s 41ms/step - loss: 0.2889 - accuracy: 0.8862 - val_loss: 0.1644 - val_accuracy: 0.9407\nEpoch 13/300\n61/61 [==============================] - 3s 42ms/step - loss: 0.2853 - accuracy: 0.8888 - val_loss: 0.1437 - val_accuracy: 0.9328\nEpoch 14/300\n61/61 [==============================] - 2s 41ms/step - loss: 0.2377 - accuracy: 0.9108 - val_loss: 0.1908 - val_accuracy: 0.9170\nEpoch 15/300\n61/61 [==============================] - 3s 41ms/step - loss: 0.3053 - accuracy: 0.8883 - val_loss: 0.2198 - val_accuracy: 0.9091\nEpoch 16/300\n61/61 [==============================] - 3s 42ms/step - loss: 0.2528 - accuracy: 0.8995 - val_loss: 0.2205 - val_accuracy: 0.9289\nEpoch 17/300\n61/61 [==============================] - 2s 41ms/step - loss: 0.2571 - accuracy: 0.8980 - val_loss: 0.1961 - val_accuracy: 0.9289\nEpoch 18/300\n61/61 [==============================] - 3s 43ms/step - loss: 0.2201 - accuracy: 0.9206 - val_loss: 0.1576 - val_accuracy: 0.9723\nEpoch 19/300\n61/61 [==============================] - 3s 42ms/step - loss: 0.2102 - accuracy: 0.9241 - val_loss: 0.1226 - val_accuracy: 0.9565\nEpoch 20/300\n61/61 [==============================] - 3s 41ms/step - loss: 0.2316 - accuracy: 0.9139 - val_loss: 0.2217 - val_accuracy: 0.9249\nEpoch 21/300\n61/61 [==============================] - 3s 41ms/step - loss: 0.2086 - accuracy: 0.9185 - val_loss: 0.0981 - val_accuracy: 0.9526\nEpoch 22/300\n61/61 [==============================] - 3s 41ms/step - loss: 0.2274 - accuracy: 0.9165 - val_loss: 0.0979 - val_accuracy: 0.9723\nEpoch 23/300\n61/61 [==============================] - 3s 43ms/step - loss: 0.1984 - accuracy: 0.9247 - val_loss: 0.1197 - val_accuracy: 0.9526\nEpoch 24/300\n61/61 [==============================] - 3s 41ms/step - loss: 0.2195 - accuracy: 0.9190 - val_loss: 0.1722 - val_accuracy: 0.9526\nEpoch 25/300\n61/61 [==============================] - 3s 41ms/step - loss: 0.1787 - accuracy: 0.9323 - val_loss: 0.1564 - val_accuracy: 0.9447\nEpoch 26/300\n61/61 [==============================] - 3s 41ms/step - loss: 0.1718 - accuracy: 0.9380 - val_loss: 0.2554 - val_accuracy: 0.8972\nEpoch 27/300\n61/61 [==============================] - 3s 42ms/step - loss: 0.1767 - accuracy: 0.9364 - val_loss: 0.2265 - val_accuracy: 0.9051\nEpoch 28/300\n61/61 [==============================] - 3s 43ms/step - loss: 0.1738 - accuracy: 0.9349 - val_loss: 0.1306 - val_accuracy: 0.9565\nEpoch 29/300\n61/61 [==============================] - 3s 41ms/step - loss: 0.1868 - accuracy: 0.9318 - val_loss: 0.1042 - val_accuracy: 0.9644\nEpoch 30/300\n61/61 [==============================] - 3s 42ms/step - loss: 0.2113 - accuracy: 0.9221 - val_loss: 0.1099 - val_accuracy: 0.9723\nEpoch 31/300\n61/61 [==============================] - 2s 41ms/step - loss: 0.1705 - accuracy: 0.9329 - val_loss: 0.1011 - val_accuracy: 0.9565\nEpoch 32/300\n61/61 [==============================] - 2s 41ms/step - loss: 0.1465 - accuracy: 0.9467 - val_loss: 0.1561 - val_accuracy: 0.9526\nEpoch 33/300\n61/61 [==============================] - 3s 41ms/step - loss: 0.1629 - accuracy: 0.9452 - val_loss: 0.1291 - val_accuracy: 0.9526\nEpoch 34/300\n61/61 [==============================] - 3s 41ms/step - loss: 0.1557 - accuracy: 0.9416 - val_loss: 0.0905 - val_accuracy: 0.9723\nEpoch 35/300\n61/61 [==============================] - 3s 42ms/step - loss: 0.1453 - accuracy: 0.9513 - val_loss: 0.1044 - val_accuracy: 0.9526\nEpoch 36/300\n61/61 [==============================] - 3s 41ms/step - loss: 0.1592 - accuracy: 0.9493 - val_loss: 0.0842 - val_accuracy: 0.9605\nEpoch 37/300\n61/61 [==============================] - 2s 41ms/step - loss: 0.1357 - accuracy: 0.9467 - val_loss: 0.1167 - val_accuracy: 0.9407\nEpoch 38/300\n61/61 [==============================] - 3s 41ms/step - loss: 0.1751 - accuracy: 0.9349 - val_loss: 0.0801 - val_accuracy: 0.9763\nEpoch 39/300\n61/61 [==============================] - 3s 42ms/step - loss: 0.1670 - accuracy: 0.9446 - val_loss: 0.3227 - val_accuracy: 0.8854\nEpoch 40/300\n61/61 [==============================] - 3s 41ms/step - loss: 0.1622 - accuracy: 0.9385 - val_loss: 0.2021 - val_accuracy: 0.9091\nEpoch 41/300\n61/61 [==============================] - 3s 42ms/step - loss: 0.1466 - accuracy: 0.9487 - val_loss: 0.2103 - val_accuracy: 0.9249\nEpoch 42/300\n61/61 [==============================] - 3s 41ms/step - loss: 0.1379 - accuracy: 0.9503 - val_loss: 0.1325 - val_accuracy: 0.9605\nEpoch 43/300\n61/61 [==============================] - 3s 42ms/step - loss: 0.1105 - accuracy: 0.9626 - val_loss: 0.1079 - val_accuracy: 0.9605\nEpoch 44/300\n61/61 [==============================] - 3s 41ms/step - loss: 0.1376 - accuracy: 0.9518 - val_loss: 0.1540 - val_accuracy: 0.9565\nEpoch 45/300\n61/61 [==============================] - 3s 41ms/step - loss: 0.1117 - accuracy: 0.9590 - val_loss: 0.1062 - val_accuracy: 0.9723\nEpoch 46/300\n61/61 [==============================] - 3s 41ms/step - loss: 0.1407 - accuracy: 0.9482 - val_loss: 0.2417 - val_accuracy: 0.9209\nEpoch 47/300\n61/61 [==============================] - 3s 43ms/step - loss: 0.1283 - accuracy: 0.9482 - val_loss: 0.0730 - val_accuracy: 0.9802\nEpoch 48/300\n61/61 [==============================] - 2s 41ms/step - loss: 0.1442 - accuracy: 0.9528 - val_loss: 0.1479 - val_accuracy: 0.9526\nEpoch 49/300\n61/61 [==============================] - 3s 41ms/step - loss: 0.1471 - accuracy: 0.9482 - val_loss: 0.1604 - val_accuracy: 0.9328\nEpoch 50/300\n61/61 [==============================] - 3s 42ms/step - loss: 0.1392 - accuracy: 0.9508 - val_loss: 0.1008 - val_accuracy: 0.9842\nEpoch 51/300\n61/61 [==============================] - 3s 41ms/step - loss: 0.1915 - accuracy: 0.9349 - val_loss: 0.0980 - val_accuracy: 0.9723\nEpoch 52/300\n61/61 [==============================] - 3s 43ms/step - loss: 0.1049 - accuracy: 0.9610 - val_loss: 0.1977 - val_accuracy: 0.9368\nEpoch 53/300\n61/61 [==============================] - 3s 42ms/step - loss: 0.1128 - accuracy: 0.9580 - val_loss: 0.1059 - val_accuracy: 0.9565\nEpoch 54/300\n61/61 [==============================] - 3s 41ms/step - loss: 0.1040 - accuracy: 0.9646 - val_loss: 0.1302 - val_accuracy: 0.9368\nEpoch 55/300\n61/61 [==============================] - 3s 41ms/step - loss: 0.1012 - accuracy: 0.9672 - val_loss: 0.0823 - val_accuracy: 0.9842\nEpoch 56/300\n61/61 [==============================] - 3s 41ms/step - loss: 0.1071 - accuracy: 0.9610 - val_loss: 0.1025 - val_accuracy: 0.9684\nEpoch 57/300\n61/61 [==============================] - 3s 42ms/step - loss: 0.1000 - accuracy: 0.9605 - val_loss: 0.0885 - val_accuracy: 0.9644\nEpoch 58/300\n61/61 [==============================] - 2s 41ms/step - loss: 0.0765 - accuracy: 0.9708 - val_loss: 0.0595 - val_accuracy: 0.9842\nEpoch 59/300\n61/61 [==============================] - 2s 41ms/step - loss: 0.1905 - accuracy: 0.9385 - val_loss: 0.1236 - val_accuracy: 0.9605\nEpoch 60/300\n61/61 [==============================] - 3s 43ms/step - loss: 0.1205 - accuracy: 0.9595 - val_loss: 0.2945 - val_accuracy: 0.8933\nEpoch 61/300\n61/61 [==============================] - 2s 41ms/step - loss: 0.1215 - accuracy: 0.9575 - val_loss: 0.1180 - val_accuracy: 0.9723\nEpoch 62/300\n61/61 [==============================] - 3s 43ms/step - loss: 0.0948 - accuracy: 0.9641 - val_loss: 0.0727 - val_accuracy: 0.9842\nEpoch 63/300\n61/61 [==============================] - 3s 42ms/step - loss: 0.0896 - accuracy: 0.9657 - val_loss: 0.0889 - val_accuracy: 0.9605\nEpoch 64/300\n61/61 [==============================] - 2s 41ms/step - loss: 0.1212 - accuracy: 0.9559 - val_loss: 0.2197 - val_accuracy: 0.9012\nEpoch 65/300\n61/61 [==============================] - 2s 41ms/step - loss: 0.0820 - accuracy: 0.9708 - val_loss: 0.0911 - val_accuracy: 0.9684\nEpoch 66/300\n61/61 [==============================] - 3s 42ms/step - loss: 0.0823 - accuracy: 0.9698 - val_loss: 0.0865 - val_accuracy: 0.9723\nEpoch 67/300\n61/61 [==============================] - 3s 41ms/step - loss: 0.0897 - accuracy: 0.9641 - val_loss: 0.1377 - val_accuracy: 0.9565\nEpoch 68/300\n61/61 [==============================] - 3s 41ms/step - loss: 0.0855 - accuracy: 0.9708 - val_loss: 0.1021 - val_accuracy: 0.9644\nEpoch 69/300\n61/61 [==============================] - 2s 41ms/step - loss: 0.0814 - accuracy: 0.9703 - val_loss: 0.0594 - val_accuracy: 0.9802\nEpoch 70/300\n61/61 [==============================] - 2s 41ms/step - loss: 0.1594 - accuracy: 0.9462 - val_loss: 0.1583 - val_accuracy: 0.9447\nEpoch 71/300\n61/61 [==============================] - 3s 42ms/step - loss: 0.1108 - accuracy: 0.9600 - val_loss: 0.0712 - val_accuracy: 0.9842\nEpoch 72/300\n61/61 [==============================] - 3s 43ms/step - loss: 0.0891 - accuracy: 0.9662 - val_loss: 0.0633 - val_accuracy: 0.9881\nEpoch 73/300\n61/61 [==============================] - 3s 41ms/step - loss: 0.1313 - accuracy: 0.9528 - val_loss: 0.1658 - val_accuracy: 0.9289\nEpoch 74/300\n61/61 [==============================] - 3s 43ms/step - loss: 0.0868 - accuracy: 0.9718 - val_loss: 0.0874 - val_accuracy: 0.9684\nEpoch 75/300\n61/61 [==============================] - 3s 41ms/step - loss: 0.0882 - accuracy: 0.9692 - val_loss: 0.0585 - val_accuracy: 0.9723\nEpoch 76/300\n61/61 [==============================] - 2s 41ms/step - loss: 0.0662 - accuracy: 0.9754 - val_loss: 0.1665 - val_accuracy: 0.9486\nEpoch 77/300\n61/61 [==============================] - 3s 42ms/step - loss: 0.0545 - accuracy: 0.9826 - val_loss: 0.0821 - val_accuracy: 0.9802\nEpoch 78/300\n61/61 [==============================] - 2s 41ms/step - loss: 0.0759 - accuracy: 0.9759 - val_loss: 0.0720 - val_accuracy: 0.9802\nEpoch 79/300\n61/61 [==============================] - 3s 41ms/step - loss: 0.0908 - accuracy: 0.9687 - val_loss: 0.0543 - val_accuracy: 0.9802\nEpoch 80/300\n61/61 [==============================] - 3s 41ms/step - loss: 0.0957 - accuracy: 0.9621 - val_loss: 0.0362 - val_accuracy: 0.9921\nEpoch 81/300\n61/61 [==============================] - 3s 42ms/step - loss: 0.0661 - accuracy: 0.9759 - val_loss: 0.0782 - val_accuracy: 0.9763\nEpoch 82/300\n61/61 [==============================] - 3s 42ms/step - loss: 0.0835 - accuracy: 0.9692 - val_loss: 0.0455 - val_accuracy: 0.9881\nEpoch 83/300\n61/61 [==============================] - 2s 41ms/step - loss: 0.0864 - accuracy: 0.9698 - val_loss: 0.2025 - val_accuracy: 0.9486\nEpoch 84/300\n61/61 [==============================] - 3s 42ms/step - loss: 0.0781 - accuracy: 0.9754 - val_loss: 0.0601 - val_accuracy: 0.9763\nEpoch 85/300\n61/61 [==============================] - 3s 41ms/step - loss: 0.1263 - accuracy: 0.9544 - val_loss: 0.1081 - val_accuracy: 0.9644\nEpoch 86/300\n61/61 [==============================] - 2s 41ms/step - loss: 0.0711 - accuracy: 0.9764 - val_loss: 0.0891 - val_accuracy: 0.9684\nEpoch 87/300\n61/61 [==============================] - 3s 42ms/step - loss: 0.1000 - accuracy: 0.9646 - val_loss: 0.0558 - val_accuracy: 0.9802\nEpoch 88/300\n61/61 [==============================] - 2s 41ms/step - loss: 0.0738 - accuracy: 0.9759 - val_loss: 0.0735 - val_accuracy: 0.9842\nEpoch 89/300\n61/61 [==============================] - 2s 41ms/step - loss: 0.0986 - accuracy: 0.9708 - val_loss: 0.1896 - val_accuracy: 0.9368\nEpoch 90/300\n61/61 [==============================] - 3s 41ms/step - loss: 0.0788 - accuracy: 0.9692 - val_loss: 0.1963 - val_accuracy: 0.9526\nEpoch 91/300\n61/61 [==============================] - 3s 42ms/step - loss: 0.1133 - accuracy: 0.9595 - val_loss: 0.1207 - val_accuracy: 0.9605\nEpoch 92/300\n61/61 [==============================] - 3s 42ms/step - loss: 0.0805 - accuracy: 0.9698 - val_loss: 0.0555 - val_accuracy: 0.9842\nEpoch 93/300\n61/61 [==============================] - 3s 42ms/step - loss: 0.0799 - accuracy: 0.9713 - val_loss: 0.0595 - val_accuracy: 0.9842\nEpoch 94/300\n61/61 [==============================] - 2s 41ms/step - loss: 0.0682 - accuracy: 0.9769 - val_loss: 0.0567 - val_accuracy: 0.9763\nEpoch 95/300\n61/61 [==============================] - 3s 42ms/step - loss: 0.0601 - accuracy: 0.9780 - val_loss: 0.1333 - val_accuracy: 0.9605\nEpoch 96/300\n61/61 [==============================] - 3s 41ms/step - loss: 0.0634 - accuracy: 0.9800 - val_loss: 0.0661 - val_accuracy: 0.9842\nEpoch 97/300\n61/61 [==============================] - 3s 41ms/step - loss: 0.0743 - accuracy: 0.9800 - val_loss: 0.1238 - val_accuracy: 0.9644\nEpoch 98/300\n61/61 [==============================] - 3s 41ms/step - loss: 0.0680 - accuracy: 0.9764 - val_loss: 0.0637 - val_accuracy: 0.9802\nEpoch 99/300\n61/61 [==============================] - 3s 42ms/step - loss: 0.1847 - accuracy: 0.9395 - val_loss: 0.1486 - val_accuracy: 0.9447\nEpoch 100/300\n61/61 [==============================] - 3s 41ms/step - loss: 0.0967 - accuracy: 0.9595 - val_loss: 0.1223 - val_accuracy: 0.9644\nEpoch 101/300\n61/61 [==============================] - 3s 41ms/step - loss: 0.0784 - accuracy: 0.9754 - val_loss: 0.0795 - val_accuracy: 0.9763\nEpoch 102/300\n61/61 [==============================] - 2s 41ms/step - loss: 0.0921 - accuracy: 0.9682 - val_loss: 0.0837 - val_accuracy: 0.9763\nEpoch 103/300\n61/61 [==============================] - 3s 42ms/step - loss: 0.0720 - accuracy: 0.9800 - val_loss: 0.0712 - val_accuracy: 0.9802\nEpoch 104/300\n61/61 [==============================] - 3s 42ms/step - loss: 0.0779 - accuracy: 0.9749 - val_loss: 0.0833 - val_accuracy: 0.9842\nEpoch 105/300\n61/61 [==============================] - 3s 42ms/step - loss: 0.0553 - accuracy: 0.9821 - val_loss: 0.0380 - val_accuracy: 0.9881\nEpoch 106/300\n61/61 [==============================] - 2s 41ms/step - loss: 0.0577 - accuracy: 0.9795 - val_loss: 0.0396 - val_accuracy: 0.9802\nEpoch 107/300\n61/61 [==============================] - 3s 41ms/step - loss: 0.0595 - accuracy: 0.9821 - val_loss: 0.0425 - val_accuracy: 0.9763\nEpoch 108/300\n61/61 [==============================] - 3s 42ms/step - loss: 0.0786 - accuracy: 0.9708 - val_loss: 0.2181 - val_accuracy: 0.9289\nEpoch 109/300\n61/61 [==============================] - 3s 42ms/step - loss: 0.0789 - accuracy: 0.9698 - val_loss: 0.0582 - val_accuracy: 0.9842\nEpoch 110/300\n61/61 [==============================] - 3s 41ms/step - loss: 0.0411 - accuracy: 0.9856 - val_loss: 0.0699 - val_accuracy: 0.9881\nEpoch 111/300\n61/61 [==============================] - 2s 41ms/step - loss: 0.0634 - accuracy: 0.9821 - val_loss: 0.1053 - val_accuracy: 0.9723\nEpoch 112/300\n61/61 [==============================] - 2s 41ms/step - loss: 0.0598 - accuracy: 0.9764 - val_loss: 0.0854 - val_accuracy: 0.9763\nEpoch 113/300\n61/61 [==============================] - 3s 42ms/step - loss: 0.0645 - accuracy: 0.9744 - val_loss: 0.0636 - val_accuracy: 0.9842\nEpoch 114/300\n61/61 [==============================] - 3s 41ms/step - loss: 0.0444 - accuracy: 0.9872 - val_loss: 0.0436 - val_accuracy: 0.9802\nEpoch 115/300\n61/61 [==============================] - 2s 41ms/step - loss: 0.0794 - accuracy: 0.9733 - val_loss: 0.0659 - val_accuracy: 0.9881\nEpoch 116/300\n61/61 [==============================] - 3s 42ms/step - loss: 0.0686 - accuracy: 0.9769 - val_loss: 0.2040 - val_accuracy: 0.9447\nEpoch 117/300\n61/61 [==============================] - 3s 41ms/step - loss: 0.0981 - accuracy: 0.9651 - val_loss: 0.0694 - val_accuracy: 0.9723\nEpoch 118/300\n61/61 [==============================] - 3s 41ms/step - loss: 0.0450 - accuracy: 0.9856 - val_loss: 0.0701 - val_accuracy: 0.9881\nEpoch 119/300\n61/61 [==============================] - 3s 41ms/step - loss: 0.0490 - accuracy: 0.9831 - val_loss: 0.0518 - val_accuracy: 0.9881\nEpoch 120/300\n61/61 [==============================] - 3s 42ms/step - loss: 0.0698 - accuracy: 0.9749 - val_loss: 0.2908 - val_accuracy: 0.9249\nEpoch 121/300\n61/61 [==============================] - 2s 41ms/step - loss: 0.0800 - accuracy: 0.9692 - val_loss: 0.1047 - val_accuracy: 0.9684\nEpoch 122/300\n61/61 [==============================] - 2s 41ms/step - loss: 0.0749 - accuracy: 0.9739 - val_loss: 0.0555 - val_accuracy: 0.9842\nEpoch 123/300\n61/61 [==============================] - 3s 41ms/step - loss: 0.0685 - accuracy: 0.9749 - val_loss: 0.2065 - val_accuracy: 0.9407\nEpoch 124/300\n61/61 [==============================] - 3s 41ms/step - loss: 0.0948 - accuracy: 0.9739 - val_loss: 0.0684 - val_accuracy: 0.9842\nEpoch 125/300\n61/61 [==============================] - 3s 42ms/step - loss: 0.0509 - accuracy: 0.9790 - val_loss: 0.0516 - val_accuracy: 0.9802\nEpoch 126/300\n61/61 [==============================] - 3s 41ms/step - loss: 0.0526 - accuracy: 0.9815 - val_loss: 0.0728 - val_accuracy: 0.9842\nEpoch 127/300\n61/61 [==============================] - 3s 41ms/step - loss: 0.0516 - accuracy: 0.9810 - val_loss: 0.0592 - val_accuracy: 0.9881\nEpoch 128/300\n61/61 [==============================] - 3s 42ms/step - loss: 0.0552 - accuracy: 0.9831 - val_loss: 0.1130 - val_accuracy: 0.9763\nEpoch 129/300\n61/61 [==============================] - 3s 41ms/step - loss: 0.0564 - accuracy: 0.9826 - val_loss: 0.1016 - val_accuracy: 0.9802\nEpoch 130/300\n61/61 [==============================] - 3s 41ms/step - loss: 0.0469 - accuracy: 0.9826 - val_loss: 0.0481 - val_accuracy: 0.9842\nEpoch 131/300\n61/61 [==============================] - 2s 41ms/step - loss: 0.0574 - accuracy: 0.9815 - val_loss: 0.0566 - val_accuracy: 0.9842\nEpoch 132/300\n61/61 [==============================] - 3s 42ms/step - loss: 0.0420 - accuracy: 0.9846 - val_loss: 0.0539 - val_accuracy: 0.9921\nEpoch 133/300\n61/61 [==============================] - 2s 41ms/step - loss: 0.0483 - accuracy: 0.9856 - val_loss: 0.0617 - val_accuracy: 0.9763\nEpoch 134/300\n61/61 [==============================] - 2s 41ms/step - loss: 0.0487 - accuracy: 0.9815 - val_loss: 0.0684 - val_accuracy: 0.9842\nEpoch 135/300\n61/61 [==============================] - 2s 41ms/step - loss: 0.0502 - accuracy: 0.9836 - val_loss: 0.0400 - val_accuracy: 0.9881\nEpoch 136/300\n61/61 [==============================] - 2s 41ms/step - loss: 0.0712 - accuracy: 0.9754 - val_loss: 0.1004 - val_accuracy: 0.9723\nEpoch 137/300\n61/61 [==============================] - 3s 42ms/step - loss: 0.0613 - accuracy: 0.9810 - val_loss: 0.1120 - val_accuracy: 0.9684\nEpoch 138/300\n61/61 [==============================] - 3s 42ms/step - loss: 0.0586 - accuracy: 0.9785 - val_loss: 0.0578 - val_accuracy: 0.9881\nEpoch 139/300\n61/61 [==============================] - 2s 41ms/step - loss: 0.0575 - accuracy: 0.9774 - val_loss: 0.0639 - val_accuracy: 0.9842\nEpoch 140/300\n61/61 [==============================] - 3s 42ms/step - loss: 0.0637 - accuracy: 0.9805 - val_loss: 0.0479 - val_accuracy: 0.9763\nEpoch 141/300\n61/61 [==============================] - 2s 41ms/step - loss: 0.0836 - accuracy: 0.9713 - val_loss: 0.0871 - val_accuracy: 0.9644\nEpoch 142/300\n61/61 [==============================] - 2s 41ms/step - loss: 0.0464 - accuracy: 0.9862 - val_loss: 0.0461 - val_accuracy: 0.9881\nEpoch 143/300\n61/61 [==============================] - 2s 41ms/step - loss: 0.0517 - accuracy: 0.9826 - val_loss: 0.0360 - val_accuracy: 0.9881\nEpoch 144/300\n61/61 [==============================] - 3s 42ms/step - loss: 0.0407 - accuracy: 0.9846 - val_loss: 0.0579 - val_accuracy: 0.9802\nEpoch 145/300\n61/61 [==============================] - 2s 41ms/step - loss: 0.0350 - accuracy: 0.9887 - val_loss: 0.0344 - val_accuracy: 0.9881\nEpoch 146/300\n61/61 [==============================] - 3s 41ms/step - loss: 0.0566 - accuracy: 0.9790 - val_loss: 0.1711 - val_accuracy: 0.9605\nEpoch 147/300\n61/61 [==============================] - 2s 41ms/step - loss: 0.0337 - accuracy: 0.9867 - val_loss: 0.0159 - val_accuracy: 0.9921\nEpoch 148/300\n61/61 [==============================] - 2s 41ms/step - loss: 0.0697 - accuracy: 0.9774 - val_loss: 0.0807 - val_accuracy: 0.9723\nEpoch 149/300\n61/61 [==============================] - 3s 43ms/step - loss: 0.0546 - accuracy: 0.9805 - val_loss: 0.0358 - val_accuracy: 0.9842\nEpoch 150/300\n61/61 [==============================] - 3s 41ms/step - loss: 0.0413 - accuracy: 0.9846 - val_loss: 0.0372 - val_accuracy: 0.9881\nEpoch 151/300\n61/61 [==============================] - 3s 42ms/step - loss: 0.0261 - accuracy: 0.9923 - val_loss: 0.0420 - val_accuracy: 0.9842\nEpoch 152/300\n61/61 [==============================] - 2s 41ms/step - loss: 0.0569 - accuracy: 0.9821 - val_loss: 0.0529 - val_accuracy: 0.9763\nEpoch 153/300\n61/61 [==============================] - 3s 42ms/step - loss: 0.0400 - accuracy: 0.9887 - val_loss: 0.0754 - val_accuracy: 0.9763\nEpoch 154/300\n61/61 [==============================] - 3s 41ms/step - loss: 0.0292 - accuracy: 0.9908 - val_loss: 0.0713 - val_accuracy: 0.9802\nEpoch 155/300\n61/61 [==============================] - 2s 41ms/step - loss: 0.0626 - accuracy: 0.9815 - val_loss: 0.0508 - val_accuracy: 0.9802\nEpoch 156/300\n61/61 [==============================] - 2s 41ms/step - loss: 0.0672 - accuracy: 0.9805 - val_loss: 0.2646 - val_accuracy: 0.9130\nEpoch 157/300\n61/61 [==============================] - 3s 42ms/step - loss: 0.0519 - accuracy: 0.9810 - val_loss: 0.0387 - val_accuracy: 0.9921\nEpoch 158/300\n61/61 [==============================] - 2s 41ms/step - loss: 0.0386 - accuracy: 0.9856 - val_loss: 0.0656 - val_accuracy: 0.9842\nEpoch 159/300\n61/61 [==============================] - 2s 41ms/step - loss: 0.0359 - accuracy: 0.9877 - val_loss: 0.1809 - val_accuracy: 0.9565\nEpoch 160/300\n61/61 [==============================] - 2s 41ms/step - loss: 0.0393 - accuracy: 0.9867 - val_loss: 0.2185 - val_accuracy: 0.9605\nEpoch 161/300\n61/61 [==============================] - 3s 42ms/step - loss: 0.0442 - accuracy: 0.9862 - val_loss: 0.1754 - val_accuracy: 0.9644\nEpoch 162/300\n61/61 [==============================] - 3s 42ms/step - loss: 0.0533 - accuracy: 0.9826 - val_loss: 0.1647 - val_accuracy: 0.9684\nEpoch 163/300\n61/61 [==============================] - 3s 43ms/step - loss: 0.0566 - accuracy: 0.9780 - val_loss: 0.2575 - val_accuracy: 0.9249\nEpoch 164/300\n61/61 [==============================] - 2s 41ms/step - loss: 0.0727 - accuracy: 0.9749 - val_loss: 0.0532 - val_accuracy: 0.9881\nEpoch 165/300\n61/61 [==============================] - 3s 42ms/step - loss: 0.0370 - accuracy: 0.9836 - val_loss: 0.0809 - val_accuracy: 0.9802\nEpoch 166/300\n61/61 [==============================] - 3s 41ms/step - loss: 0.0272 - accuracy: 0.9913 - val_loss: 0.0356 - val_accuracy: 0.9881\nEpoch 167/300\n61/61 [==============================] - 2s 41ms/step - loss: 0.0440 - accuracy: 0.9867 - val_loss: 0.0235 - val_accuracy: 0.9921\nEpoch 168/300\n61/61 [==============================] - 3s 41ms/step - loss: 0.0468 - accuracy: 0.9836 - val_loss: 0.0939 - val_accuracy: 0.9802\nEpoch 169/300\n61/61 [==============================] - 3s 42ms/step - loss: 0.0606 - accuracy: 0.9815 - val_loss: 0.1228 - val_accuracy: 0.9684\nEpoch 170/300\n61/61 [==============================] - 2s 41ms/step - loss: 0.0509 - accuracy: 0.9810 - val_loss: 0.0546 - val_accuracy: 0.9842\nEpoch 171/300\n61/61 [==============================] - 2s 41ms/step - loss: 0.0684 - accuracy: 0.9795 - val_loss: 0.0867 - val_accuracy: 0.9605\nEpoch 172/300\n61/61 [==============================] - 2s 41ms/step - loss: 0.0355 - accuracy: 0.9877 - val_loss: 0.0962 - val_accuracy: 0.9763\nEpoch 173/300\n61/61 [==============================] - 3s 42ms/step - loss: 0.0389 - accuracy: 0.9882 - val_loss: 0.1619 - val_accuracy: 0.9684\nEpoch 174/300\n61/61 [==============================] - 3s 42ms/step - loss: 0.0384 - accuracy: 0.9872 - val_loss: 0.0756 - val_accuracy: 0.9763\nEpoch 175/300\n61/61 [==============================] - 2s 41ms/step - loss: 0.0302 - accuracy: 0.9903 - val_loss: 0.2741 - val_accuracy: 0.9486\nEpoch 176/300\n61/61 [==============================] - 3s 42ms/step - loss: 0.0751 - accuracy: 0.9744 - val_loss: 0.0644 - val_accuracy: 0.9881\nEpoch 177/300\n61/61 [==============================] - 3s 41ms/step - loss: 0.0243 - accuracy: 0.9897 - val_loss: 0.0954 - val_accuracy: 0.9723\nEpoch 178/300\n61/61 [==============================] - 2s 41ms/step - loss: 0.0448 - accuracy: 0.9846 - val_loss: 0.0654 - val_accuracy: 0.9802\nEpoch 179/300\n61/61 [==============================] - 2s 41ms/step - loss: 0.0863 - accuracy: 0.9744 - val_loss: 0.0725 - val_accuracy: 0.9763\nEpoch 180/300\n61/61 [==============================] - 3s 42ms/step - loss: 0.0385 - accuracy: 0.9856 - val_loss: 0.0978 - val_accuracy: 0.9802\nEpoch 181/300\n61/61 [==============================] - 2s 41ms/step - loss: 0.0430 - accuracy: 0.9867 - val_loss: 0.0548 - val_accuracy: 0.9842\nEpoch 182/300\n61/61 [==============================] - 3s 41ms/step - loss: 0.0344 - accuracy: 0.9892 - val_loss: 0.0672 - val_accuracy: 0.9881\nEpoch 183/300\n61/61 [==============================] - 2s 41ms/step - loss: 0.0347 - accuracy: 0.9867 - val_loss: 0.2039 - val_accuracy: 0.9526\nEpoch 184/300\n61/61 [==============================] - 2s 41ms/step - loss: 0.0323 - accuracy: 0.9892 - val_loss: 0.0849 - val_accuracy: 0.9802\nEpoch 185/300\n61/61 [==============================] - 3s 42ms/step - loss: 0.0589 - accuracy: 0.9821 - val_loss: 0.1059 - val_accuracy: 0.9763\nEpoch 186/300\n61/61 [==============================] - 3s 42ms/step - loss: 0.0542 - accuracy: 0.9821 - val_loss: 0.1117 - val_accuracy: 0.9723\nEpoch 187/300\n61/61 [==============================] - 3s 41ms/step - loss: 0.0428 - accuracy: 0.9882 - val_loss: 0.1107 - val_accuracy: 0.9723\nEpoch 188/300\n61/61 [==============================] - 3s 42ms/step - loss: 0.0306 - accuracy: 0.9882 - val_loss: 0.0741 - val_accuracy: 0.9842\nEpoch 189/300\n61/61 [==============================] - 2s 41ms/step - loss: 0.0311 - accuracy: 0.9867 - val_loss: 0.1034 - val_accuracy: 0.9763\nEpoch 190/300\n61/61 [==============================] - 3s 41ms/step - loss: 0.0229 - accuracy: 0.9918 - val_loss: 0.0901 - val_accuracy: 0.9921\nEpoch 191/300\n61/61 [==============================] - 3s 41ms/step - loss: 0.0166 - accuracy: 0.9949 - val_loss: 0.1186 - val_accuracy: 0.9763\nEpoch 192/300\n61/61 [==============================] - 3s 42ms/step - loss: 0.0532 - accuracy: 0.9815 - val_loss: 0.2499 - val_accuracy: 0.9170\nEpoch 193/300\n61/61 [==============================] - 2s 41ms/step - loss: 0.0921 - accuracy: 0.9703 - val_loss: 0.3676 - val_accuracy: 0.9012\nEpoch 194/300\n61/61 [==============================] - 2s 41ms/step - loss: 0.0663 - accuracy: 0.9749 - val_loss: 0.1067 - val_accuracy: 0.9842\nEpoch 195/300\n61/61 [==============================] - 2s 41ms/step - loss: 0.0200 - accuracy: 0.9918 - val_loss: 0.1172 - val_accuracy: 0.9763\nEpoch 196/300\n61/61 [==============================] - 2s 41ms/step - loss: 0.0399 - accuracy: 0.9821 - val_loss: 0.0777 - val_accuracy: 0.9723\nEpoch 197/300\n61/61 [==============================] - 3s 42ms/step - loss: 0.0411 - accuracy: 0.9867 - val_loss: 0.0912 - val_accuracy: 0.9842\nEpoch 198/300\n61/61 [==============================] - 3s 41ms/step - loss: 0.0320 - accuracy: 0.9877 - val_loss: 0.0745 - val_accuracy: 0.9881\nEpoch 199/300\n61/61 [==============================] - 2s 41ms/step - loss: 0.0255 - accuracy: 0.9897 - val_loss: 0.0672 - val_accuracy: 0.9802\nEpoch 200/300\n61/61 [==============================] - 3s 42ms/step - loss: 0.0150 - accuracy: 0.9933 - val_loss: 0.0647 - val_accuracy: 0.9842\nEpoch 201/300\n61/61 [==============================] - 2s 41ms/step - loss: 0.0676 - accuracy: 0.9780 - val_loss: 0.9849 - val_accuracy: 0.7984\nEpoch 202/300\n61/61 [==============================] - 2s 41ms/step - loss: 0.1548 - accuracy: 0.9528 - val_loss: 0.0412 - val_accuracy: 0.9842\nEpoch 203/300\n61/61 [==============================] - 3s 42ms/step - loss: 0.0418 - accuracy: 0.9862 - val_loss: 0.0719 - val_accuracy: 0.9763\nEpoch 204/300\n61/61 [==============================] - 2s 41ms/step - loss: 0.0400 - accuracy: 0.9897 - val_loss: 0.1120 - val_accuracy: 0.9684\nEpoch 205/300\n61/61 [==============================] - 2s 41ms/step - loss: 0.0217 - accuracy: 0.9944 - val_loss: 0.0549 - val_accuracy: 0.9921\nEpoch 206/300\n61/61 [==============================] - 2s 41ms/step - loss: 0.0479 - accuracy: 0.9877 - val_loss: 0.0476 - val_accuracy: 0.9763\nEpoch 207/300\n61/61 [==============================] - 3s 42ms/step - loss: 0.0232 - accuracy: 0.9908 - val_loss: 0.0432 - val_accuracy: 0.9881\nEpoch 208/300\n61/61 [==============================] - 3s 41ms/step - loss: 0.0773 - accuracy: 0.9795 - val_loss: 0.0608 - val_accuracy: 0.9842\nEpoch 209/300\n61/61 [==============================] - 2s 41ms/step - loss: 0.0479 - accuracy: 0.9846 - val_loss: 0.1492 - val_accuracy: 0.9368\nEpoch 210/300\n61/61 [==============================] - 3s 42ms/step - loss: 0.0385 - accuracy: 0.9856 - val_loss: 0.0830 - val_accuracy: 0.9763\nEpoch 211/300\n61/61 [==============================] - 2s 41ms/step - loss: 0.0315 - accuracy: 0.9862 - val_loss: 0.0608 - val_accuracy: 0.9723\nEpoch 212/300\n61/61 [==============================] - 2s 41ms/step - loss: 0.0396 - accuracy: 0.9877 - val_loss: 0.3718 - val_accuracy: 0.9209\nEpoch 213/300\n61/61 [==============================] - 3s 42ms/step - loss: 0.1130 - accuracy: 0.9703 - val_loss: 0.0518 - val_accuracy: 0.9802\nEpoch 214/300\n61/61 [==============================] - 2s 41ms/step - loss: 0.0232 - accuracy: 0.9933 - val_loss: 0.0540 - val_accuracy: 0.9842\nEpoch 215/300\n61/61 [==============================] - 2s 41ms/step - loss: 0.0167 - accuracy: 0.9959 - val_loss: 0.0540 - val_accuracy: 0.9802\nEpoch 216/300\n61/61 [==============================] - 2s 41ms/step - loss: 0.0359 - accuracy: 0.9882 - val_loss: 0.1961 - val_accuracy: 0.9644\nEpoch 217/300\n61/61 [==============================] - 2s 41ms/step - loss: 0.0690 - accuracy: 0.9800 - val_loss: 0.1647 - val_accuracy: 0.9644\nEpoch 218/300\n61/61 [==============================] - 3s 42ms/step - loss: 0.0605 - accuracy: 0.9826 - val_loss: 0.0742 - val_accuracy: 0.9881\nEpoch 219/300\n61/61 [==============================] - 2s 41ms/step - loss: 0.0316 - accuracy: 0.9872 - val_loss: 0.0693 - val_accuracy: 0.9842\nEpoch 220/300\n61/61 [==============================] - 3s 43ms/step - loss: 0.0310 - accuracy: 0.9892 - val_loss: 0.0968 - val_accuracy: 0.9763\nEpoch 221/300\n61/61 [==============================] - 3s 42ms/step - loss: 0.0402 - accuracy: 0.9877 - val_loss: 0.0758 - val_accuracy: 0.9723\nEpoch 222/300\n61/61 [==============================] - 2s 41ms/step - loss: 0.0404 - accuracy: 0.9851 - val_loss: 0.1671 - val_accuracy: 0.9486\nEpoch 223/300\n61/61 [==============================] - 2s 41ms/step - loss: 0.0337 - accuracy: 0.9892 - val_loss: 0.0942 - val_accuracy: 0.9802\nEpoch 224/300\n61/61 [==============================] - 2s 41ms/step - loss: 0.0145 - accuracy: 0.9938 - val_loss: 0.0862 - val_accuracy: 0.9802\nEpoch 225/300\n61/61 [==============================] - 3s 42ms/step - loss: 0.0280 - accuracy: 0.9903 - val_loss: 0.0859 - val_accuracy: 0.9842\nEpoch 226/300\n61/61 [==============================] - 2s 41ms/step - loss: 0.0200 - accuracy: 0.9923 - val_loss: 0.0736 - val_accuracy: 0.9881\nEpoch 227/300\n61/61 [==============================] - 2s 41ms/step - loss: 0.0470 - accuracy: 0.9846 - val_loss: 0.0652 - val_accuracy: 0.9802\nEpoch 228/300\n61/61 [==============================] - 2s 41ms/step - loss: 0.0244 - accuracy: 0.9908 - val_loss: 0.0496 - val_accuracy: 0.9921\nEpoch 229/300\n61/61 [==============================] - 3s 42ms/step - loss: 0.0111 - accuracy: 0.9964 - val_loss: 0.0404 - val_accuracy: 0.9921\nEpoch 230/300\n61/61 [==============================] - 2s 41ms/step - loss: 0.0129 - accuracy: 0.9949 - val_loss: 0.1483 - val_accuracy: 0.9763\nEpoch 231/300\n61/61 [==============================] - 3s 43ms/step - loss: 0.0252 - accuracy: 0.9897 - val_loss: 0.1380 - val_accuracy: 0.9723\nEpoch 232/300\n61/61 [==============================] - 3s 42ms/step - loss: 0.0535 - accuracy: 0.9831 - val_loss: 0.1225 - val_accuracy: 0.9684\nEpoch 233/300\n61/61 [==============================] - 2s 41ms/step - loss: 0.0535 - accuracy: 0.9846 - val_loss: 0.1779 - val_accuracy: 0.9763\nEpoch 234/300\n61/61 [==============================] - 2s 41ms/step - loss: 0.0419 - accuracy: 0.9887 - val_loss: 0.1237 - val_accuracy: 0.9842\nEpoch 235/300\n61/61 [==============================] - 2s 41ms/step - loss: 0.0245 - accuracy: 0.9944 - val_loss: 0.1813 - val_accuracy: 0.9565\nEpoch 236/300\n61/61 [==============================] - 3s 42ms/step - loss: 0.0827 - accuracy: 0.9795 - val_loss: 0.0712 - val_accuracy: 0.9802\nEpoch 237/300\n61/61 [==============================] - 3s 41ms/step - loss: 0.0596 - accuracy: 0.9795 - val_loss: 0.0563 - val_accuracy: 0.9802\nEpoch 238/300\n61/61 [==============================] - 2s 41ms/step - loss: 0.0352 - accuracy: 0.9882 - val_loss: 0.1000 - val_accuracy: 0.9763\nEpoch 239/300\n61/61 [==============================] - 2s 41ms/step - loss: 0.0333 - accuracy: 0.9882 - val_loss: 0.0247 - val_accuracy: 0.9921\nEpoch 240/300\n61/61 [==============================] - 3s 43ms/step - loss: 0.0350 - accuracy: 0.9897 - val_loss: 0.0219 - val_accuracy: 0.9881\nEpoch 241/300\n61/61 [==============================] - 3s 43ms/step - loss: 0.0275 - accuracy: 0.9887 - val_loss: 0.0799 - val_accuracy: 0.9723\nEpoch 242/300\n61/61 [==============================] - 3s 42ms/step - loss: 0.0273 - accuracy: 0.9923 - val_loss: 0.2989 - val_accuracy: 0.9565\nEpoch 243/300\n61/61 [==============================] - 2s 41ms/step - loss: 0.0361 - accuracy: 0.9867 - val_loss: 0.0984 - val_accuracy: 0.9881\nEpoch 244/300\n61/61 [==============================] - 2s 41ms/step - loss: 0.0192 - accuracy: 0.9949 - val_loss: 0.0594 - val_accuracy: 0.9881\nEpoch 245/300\n61/61 [==============================] - 2s 41ms/step - loss: 0.0257 - accuracy: 0.9928 - val_loss: 0.0346 - val_accuracy: 0.9921\nEpoch 246/300\n61/61 [==============================] - 3s 42ms/step - loss: 0.0231 - accuracy: 0.9908 - val_loss: 0.0537 - val_accuracy: 0.9881\nEpoch 247/300\n61/61 [==============================] - 2s 41ms/step - loss: 0.0129 - accuracy: 0.9969 - val_loss: 0.0826 - val_accuracy: 0.9881\nEpoch 248/300\n61/61 [==============================] - 2s 41ms/step - loss: 0.0733 - accuracy: 0.9790 - val_loss: 0.0551 - val_accuracy: 0.9881\nEpoch 249/300\n61/61 [==============================] - 2s 41ms/step - loss: 0.0467 - accuracy: 0.9831 - val_loss: 0.1866 - val_accuracy: 0.9684\nEpoch 250/300\n61/61 [==============================] - 3s 42ms/step - loss: 0.0360 - accuracy: 0.9882 - val_loss: 0.0712 - val_accuracy: 0.9842\nEpoch 251/300\n61/61 [==============================] - 3s 41ms/step - loss: 0.0157 - accuracy: 0.9959 - val_loss: 0.0468 - val_accuracy: 0.9881\nEpoch 252/300\n61/61 [==============================] - 3s 42ms/step - loss: 0.0200 - accuracy: 0.9933 - val_loss: 0.0658 - val_accuracy: 0.9881\nEpoch 253/300\n61/61 [==============================] - 2s 41ms/step - loss: 0.0262 - accuracy: 0.9892 - val_loss: 0.0424 - val_accuracy: 0.9881\nEpoch 254/300\n61/61 [==============================] - 3s 42ms/step - loss: 0.0216 - accuracy: 0.9923 - val_loss: 0.1507 - val_accuracy: 0.9763\nEpoch 255/300\n61/61 [==============================] - 2s 41ms/step - loss: 0.0380 - accuracy: 0.9892 - val_loss: 0.0384 - val_accuracy: 0.9881\nEpoch 256/300\n61/61 [==============================] - 2s 41ms/step - loss: 0.0178 - accuracy: 0.9928 - val_loss: 0.0244 - val_accuracy: 0.9881\nEpoch 257/300\n61/61 [==============================] - 2s 41ms/step - loss: 0.0275 - accuracy: 0.9928 - val_loss: 0.0987 - val_accuracy: 0.9842\nEpoch 258/300\n61/61 [==============================] - 3s 42ms/step - loss: 0.0382 - accuracy: 0.9862 - val_loss: 0.1328 - val_accuracy: 0.9723\nEpoch 259/300\n61/61 [==============================] - 2s 41ms/step - loss: 0.0194 - accuracy: 0.9933 - val_loss: 0.1048 - val_accuracy: 0.9842\nEpoch 260/300\n61/61 [==============================] - 2s 41ms/step - loss: 0.0220 - accuracy: 0.9923 - val_loss: 0.1094 - val_accuracy: 0.9763\nEpoch 261/300\n61/61 [==============================] - 2s 41ms/step - loss: 0.0367 - accuracy: 0.9882 - val_loss: 0.0502 - val_accuracy: 0.9881\nEpoch 262/300\n61/61 [==============================] - 2s 41ms/step - loss: 0.0440 - accuracy: 0.9862 - val_loss: 0.0327 - val_accuracy: 0.9881\nEpoch 263/300\n61/61 [==============================] - 3s 42ms/step - loss: 0.0581 - accuracy: 0.9790 - val_loss: 0.1202 - val_accuracy: 0.9802\nEpoch 264/300\n61/61 [==============================] - 2s 41ms/step - loss: 0.0386 - accuracy: 0.9867 - val_loss: 0.0973 - val_accuracy: 0.9684\nEpoch 265/300\n61/61 [==============================] - 3s 42ms/step - loss: 0.0169 - accuracy: 0.9933 - val_loss: 0.0674 - val_accuracy: 0.9723\nEpoch 266/300\n61/61 [==============================] - 3s 42ms/step - loss: 0.0181 - accuracy: 0.9933 - val_loss: 0.0594 - val_accuracy: 0.9881\nEpoch 267/300\n61/61 [==============================] - 2s 41ms/step - loss: 0.0400 - accuracy: 0.9892 - val_loss: 0.0801 - val_accuracy: 0.9842\nEpoch 268/300\n61/61 [==============================] - 2s 41ms/step - loss: 0.0282 - accuracy: 0.9918 - val_loss: 0.0312 - val_accuracy: 0.9881\nEpoch 269/300\n61/61 [==============================] - 2s 41ms/step - loss: 0.0245 - accuracy: 0.9938 - val_loss: 0.0552 - val_accuracy: 0.9921\nEpoch 270/300\n61/61 [==============================] - 3s 42ms/step - loss: 0.0503 - accuracy: 0.9892 - val_loss: 0.1732 - val_accuracy: 0.9644\nEpoch 271/300\n61/61 [==============================] - 3s 41ms/step - loss: 0.0409 - accuracy: 0.9836 - val_loss: 0.0595 - val_accuracy: 0.9763\nEpoch 272/300\n61/61 [==============================] - 2s 41ms/step - loss: 0.0769 - accuracy: 0.9774 - val_loss: 0.0765 - val_accuracy: 0.9921\nEpoch 273/300\n61/61 [==============================] - 2s 41ms/step - loss: 0.0505 - accuracy: 0.9846 - val_loss: 0.0944 - val_accuracy: 0.9723\nEpoch 274/300\n61/61 [==============================] - 2s 41ms/step - loss: 0.0198 - accuracy: 0.9928 - val_loss: 0.1254 - val_accuracy: 0.9763\nEpoch 275/300\n61/61 [==============================] - 3s 42ms/step - loss: 0.0264 - accuracy: 0.9913 - val_loss: 0.0686 - val_accuracy: 0.9881\nEpoch 276/300\n61/61 [==============================] - 3s 42ms/step - loss: 0.0179 - accuracy: 0.9933 - val_loss: 0.1636 - val_accuracy: 0.9526\nEpoch 277/300\n61/61 [==============================] - 3s 42ms/step - loss: 0.0405 - accuracy: 0.9856 - val_loss: 0.0627 - val_accuracy: 0.9684\nEpoch 278/300\n61/61 [==============================] - 2s 41ms/step - loss: 0.0273 - accuracy: 0.9903 - val_loss: 0.0433 - val_accuracy: 0.9921\nEpoch 279/300\n61/61 [==============================] - 2s 41ms/step - loss: 0.0247 - accuracy: 0.9944 - val_loss: 0.2223 - val_accuracy: 0.9684\nEpoch 280/300\n61/61 [==============================] - 3s 42ms/step - loss: 0.0521 - accuracy: 0.9856 - val_loss: 0.0439 - val_accuracy: 0.9921\nEpoch 281/300\n61/61 [==============================] - 3s 41ms/step - loss: 0.0378 - accuracy: 0.9856 - val_loss: 0.0731 - val_accuracy: 0.9684\nEpoch 282/300\n61/61 [==============================] - 2s 41ms/step - loss: 0.0382 - accuracy: 0.9836 - val_loss: 0.0542 - val_accuracy: 0.9842\nEpoch 283/300\n61/61 [==============================] - 2s 41ms/step - loss: 0.0212 - accuracy: 0.9918 - val_loss: 0.0630 - val_accuracy: 0.9842\nEpoch 284/300\n61/61 [==============================] - 3s 41ms/step - loss: 0.0125 - accuracy: 0.9969 - val_loss: 0.0463 - val_accuracy: 0.9881\nEpoch 285/300\n61/61 [==============================] - 3s 41ms/step - loss: 0.0346 - accuracy: 0.9867 - val_loss: 0.0982 - val_accuracy: 0.9802\nEpoch 286/300\n61/61 [==============================] - 2s 41ms/step - loss: 0.0437 - accuracy: 0.9862 - val_loss: 0.0600 - val_accuracy: 0.9802\nEpoch 287/300\n61/61 [==============================] - 3s 42ms/step - loss: 0.0457 - accuracy: 0.9836 - val_loss: 0.0809 - val_accuracy: 0.9881\nEpoch 288/300\n61/61 [==============================] - 3s 42ms/step - loss: 0.0237 - accuracy: 0.9933 - val_loss: 0.0293 - val_accuracy: 0.9881\nEpoch 289/300\n61/61 [==============================] - 3s 41ms/step - loss: 0.0342 - accuracy: 0.9892 - val_loss: 0.0786 - val_accuracy: 0.9842\nEpoch 290/300\n61/61 [==============================] - 2s 41ms/step - loss: 0.0202 - accuracy: 0.9918 - val_loss: 0.0456 - val_accuracy: 0.9921\nEpoch 291/300\n61/61 [==============================] - 3s 41ms/step - loss: 0.0577 - accuracy: 0.9831 - val_loss: 0.0510 - val_accuracy: 0.9802\nEpoch 292/300\n61/61 [==============================] - 3s 41ms/step - loss: 0.0502 - accuracy: 0.9831 - val_loss: 0.2178 - val_accuracy: 0.9605\nEpoch 293/300\n61/61 [==============================] - 2s 41ms/step - loss: 0.0384 - accuracy: 0.9877 - val_loss: 0.0365 - val_accuracy: 0.9842\nEpoch 294/300\n61/61 [==============================] - 2s 41ms/step - loss: 0.0144 - accuracy: 0.9949 - val_loss: 0.1180 - val_accuracy: 0.9684\nEpoch 295/300\n61/61 [==============================] - 2s 41ms/step - loss: 0.0152 - accuracy: 0.9944 - val_loss: 0.0317 - val_accuracy: 0.9921\nEpoch 296/300\n61/61 [==============================] - 3s 42ms/step - loss: 0.0304 - accuracy: 0.9903 - val_loss: 0.1352 - val_accuracy: 0.9605\nEpoch 297/300\n61/61 [==============================] - 3s 43ms/step - loss: 0.0133 - accuracy: 0.9954 - val_loss: 0.0090 - val_accuracy: 1.0000\nEpoch 298/300\n61/61 [==============================] - 2s 41ms/step - loss: 0.0142 - accuracy: 0.9949 - val_loss: 0.0594 - val_accuracy: 0.9842\nEpoch 299/300\n61/61 [==============================] - 3s 41ms/step - loss: 0.0307 - accuracy: 0.9882 - val_loss: 0.0492 - val_accuracy: 0.9842\nEpoch 300/300\n61/61 [==============================] - 2s 41ms/step - loss: 0.0428 - accuracy: 0.9887 - val_loss: 0.0534 - val_accuracy: 0.9842\n",
          "output_type": "stream"
        }
      ]
    },
    {
      "cell_type": "code",
      "source": [
        "scores = plant_model.evaluate(test_ds)"
      ],
      "metadata": {
        "execution": {
          "iopub.status.busy": "2022-06-08T15:55:35.834121Z",
          "iopub.execute_input": "2022-06-08T15:55:35.834347Z",
          "iopub.status.idle": "2022-06-08T15:55:38.041980Z",
          "shell.execute_reply.started": "2022-06-08T15:55:35.834319Z",
          "shell.execute_reply": "2022-06-08T15:55:38.041257Z"
        },
        "trusted": true,
        "id": "yGnxbfqRhNyO",
        "outputId": "4a6aef2c-feab-4181-a033-373c2c360cc7"
      },
      "execution_count": null,
      "outputs": [
        {
          "name": "stdout",
          "text": "4/4 [==============================] - 2s 15ms/step - loss: 0.0623 - accuracy: 0.9717\n",
          "output_type": "stream"
        }
      ]
    },
    {
      "cell_type": "code",
      "source": [
        "scores"
      ],
      "metadata": {
        "execution": {
          "iopub.status.busy": "2022-06-08T15:55:38.044746Z",
          "iopub.execute_input": "2022-06-08T15:55:38.044946Z",
          "iopub.status.idle": "2022-06-08T15:55:38.052910Z",
          "shell.execute_reply.started": "2022-06-08T15:55:38.044921Z",
          "shell.execute_reply": "2022-06-08T15:55:38.052171Z"
        },
        "trusted": true,
        "id": "3ElybZFDhNyO",
        "outputId": "08d9cef1-a252-4c9d-e738-63ebf25eeb80"
      },
      "execution_count": null,
      "outputs": [
        {
          "execution_count": 16,
          "output_type": "execute_result",
          "data": {
            "text/plain": "[0.062330462038517, 0.9716981053352356]"
          },
          "metadata": {}
        }
      ]
    },
    {
      "cell_type": "code",
      "source": [
        "history"
      ],
      "metadata": {
        "execution": {
          "iopub.status.busy": "2022-06-08T15:55:38.054146Z",
          "iopub.execute_input": "2022-06-08T15:55:38.054660Z",
          "iopub.status.idle": "2022-06-08T15:55:38.061598Z",
          "shell.execute_reply.started": "2022-06-08T15:55:38.054618Z",
          "shell.execute_reply": "2022-06-08T15:55:38.060715Z"
        },
        "trusted": true,
        "id": "fC-Z4Am-hNyP",
        "outputId": "9c28b344-0bd5-43c3-8156-18c69f1a9577"
      },
      "execution_count": null,
      "outputs": [
        {
          "execution_count": 17,
          "output_type": "execute_result",
          "data": {
            "text/plain": "<keras.callbacks.History at 0x7fa5356c4190>"
          },
          "metadata": {}
        }
      ]
    },
    {
      "cell_type": "code",
      "source": [
        "history.params"
      ],
      "metadata": {
        "execution": {
          "iopub.status.busy": "2022-06-08T15:55:38.063263Z",
          "iopub.execute_input": "2022-06-08T15:55:38.063532Z",
          "iopub.status.idle": "2022-06-08T15:55:38.071213Z",
          "shell.execute_reply.started": "2022-06-08T15:55:38.063484Z",
          "shell.execute_reply": "2022-06-08T15:55:38.070321Z"
        },
        "trusted": true,
        "id": "2GZ4wYERhNyP",
        "outputId": "21fa4f92-3f92-4ff2-afb5-412d28f7f65f"
      },
      "execution_count": null,
      "outputs": [
        {
          "execution_count": 18,
          "output_type": "execute_result",
          "data": {
            "text/plain": "{'verbose': 1, 'epochs': 300, 'steps': 61}"
          },
          "metadata": {}
        }
      ]
    },
    {
      "cell_type": "code",
      "source": [
        "history.history.keys()"
      ],
      "metadata": {
        "execution": {
          "iopub.status.busy": "2022-06-08T15:55:38.072476Z",
          "iopub.execute_input": "2022-06-08T15:55:38.072762Z",
          "iopub.status.idle": "2022-06-08T15:55:38.081024Z",
          "shell.execute_reply.started": "2022-06-08T15:55:38.072725Z",
          "shell.execute_reply": "2022-06-08T15:55:38.080219Z"
        },
        "trusted": true,
        "id": "wYdbGYlHhNyP",
        "outputId": "fe1e6ead-fe13-4cff-c040-601499d6b560"
      },
      "execution_count": null,
      "outputs": [
        {
          "execution_count": 19,
          "output_type": "execute_result",
          "data": {
            "text/plain": "dict_keys(['loss', 'accuracy', 'val_loss', 'val_accuracy'])"
          },
          "metadata": {}
        }
      ]
    },
    {
      "cell_type": "markdown",
      "source": [
        "### Plotting"
      ],
      "metadata": {
        "id": "IcOmRIAShNyP"
      }
    },
    {
      "cell_type": "code",
      "source": [
        "acc = history.history['accuracy']\n",
        "val_acc = history.history['val_accuracy']\n",
        "\n",
        "loss = history.history['loss']\n",
        "val_loss = history.history['val_loss']"
      ],
      "metadata": {
        "execution": {
          "iopub.status.busy": "2022-06-08T15:55:38.082415Z",
          "iopub.execute_input": "2022-06-08T15:55:38.082701Z",
          "iopub.status.idle": "2022-06-08T15:55:38.089210Z",
          "shell.execute_reply.started": "2022-06-08T15:55:38.082665Z",
          "shell.execute_reply": "2022-06-08T15:55:38.088129Z"
        },
        "trusted": true,
        "id": "3aOBmgCNhNyQ"
      },
      "execution_count": null,
      "outputs": []
    },
    {
      "cell_type": "code",
      "source": [
        "plt.figure(figsize = (8,8))\n",
        "plt.subplot( 1 , 2 , 1)\n",
        "plt.plot(range(EPOCHS), acc, label = 'Training Accuracy')\n",
        "plt.plot(range(EPOCHS), val_acc, label = 'Validation Accuracy')\n",
        "plt.legend(loc = 'lower right')\n",
        "plt.title('Training and Validation Accuracy')\n",
        "\n",
        "plt.figure(figsize = (8,8))\n",
        "plt.subplot( 1 , 2 , 1)\n",
        "plt.plot(range(EPOCHS), loss, label = 'Training loss')\n",
        "plt.plot(range(EPOCHS), val_loss, label = 'Validation loss')\n",
        "plt.legend(loc = 'lower right')\n",
        "plt.title('Training and Validation Accuracy')\n",
        "\n",
        "plt.show()"
      ],
      "metadata": {
        "execution": {
          "iopub.status.busy": "2022-06-08T15:55:38.090601Z",
          "iopub.execute_input": "2022-06-08T15:55:38.090966Z",
          "iopub.status.idle": "2022-06-08T15:55:38.455787Z",
          "shell.execute_reply.started": "2022-06-08T15:55:38.090929Z",
          "shell.execute_reply": "2022-06-08T15:55:38.455123Z"
        },
        "trusted": true,
        "id": "CI8Ar29ZhNyQ",
        "outputId": "72a13348-61c5-478e-d8b5-c57ba51e0ac1"
      },
      "execution_count": null,
      "outputs": [
        {
          "output_type": "display_data",
          "data": {
            "text/plain": "<Figure size 576x576 with 1 Axes>",
            "image/png": "[encoded data removed]"
          },
          "metadata": {
            "needs_background": "light"
          }
        },
        {
          "output_type": "display_data",
          "data": {
            "text/plain": "<Figure size 576x576 with 1 Axes>",
            "image/png": "[encoded data removed]"
          },
          "metadata": {
            "needs_background": "light"
          }
        }
      ]
    },
    {
      "cell_type": "code",
      "source": [
        "plt.plot(history.history['accuracy'])\n",
        "plt.plot(history.history['val_accuracy'])\n",
        "plt.title('model accuracy')\n",
        "plt.ylabel('accuracy')\n",
        "plt.xlabel('epoch')\n",
        "plt.legend(['train', 'test'], loc='upper left')\n",
        "plt.show()\n",
        "\n",
        "plt.plot(history.history['loss'])\n",
        "plt.plot(history.history['val_loss'])\n",
        "plt.title('model loss')\n",
        "plt.ylabel('loss')\n",
        "plt.xlabel('epoch')\n",
        "plt.legend(['train', 'test'], loc='upper left')\n",
        "plt.show()"
      ],
      "metadata": {
        "execution": {
          "iopub.status.busy": "2022-06-08T15:56:55.719145Z",
          "iopub.execute_input": "2022-06-08T15:56:55.719621Z",
          "iopub.status.idle": "2022-06-08T15:56:56.114414Z",
          "shell.execute_reply.started": "2022-06-08T15:56:55.719584Z",
          "shell.execute_reply": "2022-06-08T15:56:56.112595Z"
        },
        "trusted": true,
        "id": "Q8TB-6I8hNyQ",
        "outputId": "1d7c61c7-75e3-44b8-d0a6-4d5f933cf68f"
      },
      "execution_count": null,
      "outputs": [
        {
          "output_type": "display_data",
          "data": {
            "text/plain": "<Figure size 432x288 with 1 Axes>",
            "image/png": "[encoded data removed]"
          },
          "metadata": {
            "needs_background": "light"
          }
        },
        {
          "output_type": "display_data",
          "data": {
            "text/plain": "<Figure size 432x288 with 1 Axes>",
            "image/png": "[encoded data removed]"
          },
          "metadata": {
            "needs_background": "light"
          }
        }
      ]
    },
    {
      "cell_type": "code",
      "source": [
        "predicted123 = plant_model.predict(test_ds)"
      ],
      "metadata": {
        "execution": {
          "iopub.status.busy": "2022-06-08T15:58:06.557053Z",
          "iopub.execute_input": "2022-06-08T15:58:06.557563Z",
          "iopub.status.idle": "2022-06-08T15:58:06.716124Z",
          "shell.execute_reply.started": "2022-06-08T15:58:06.557528Z",
          "shell.execute_reply": "2022-06-08T15:58:06.715378Z"
        },
        "trusted": true,
        "id": "_jeGxwy3hNyR"
      },
      "execution_count": null,
      "outputs": []
    },
    {
      "cell_type": "code",
      "source": [
        "plant_model.evaluate(test_ds)"
      ],
      "metadata": {
        "execution": {
          "iopub.status.busy": "2022-06-08T16:12:25.837848Z",
          "iopub.execute_input": "2022-06-08T16:12:25.838114Z",
          "iopub.status.idle": "2022-06-08T16:12:25.916723Z",
          "shell.execute_reply.started": "2022-06-08T16:12:25.838083Z",
          "shell.execute_reply": "2022-06-08T16:12:25.916028Z"
        },
        "trusted": true,
        "id": "33HLk4SNhNyR",
        "outputId": "034ce280-fa95-4b86-b6c2-49514708761f"
      },
      "execution_count": null,
      "outputs": [
        {
          "name": "stdout",
          "text": "4/4 [==============================] - 0s 12ms/step - loss: 0.0623 - accuracy: 0.9717\n",
          "output_type": "stream"
        },
        {
          "execution_count": 34,
          "output_type": "execute_result",
          "data": {
            "text/plain": "[0.062330462038517, 0.9716981053352356]"
          },
          "metadata": {}
        }
      ]
    },
    {
      "cell_type": "code",
      "source": [
        "predictions = plant_model.predict_generator(test_ds)\n",
        "predictions"
      ],
      "metadata": {
        "execution": {
          "iopub.status.busy": "2022-06-08T16:50:01.125519Z",
          "iopub.execute_input": "2022-06-08T16:50:01.126205Z",
          "iopub.status.idle": "2022-06-08T16:50:01.201472Z",
          "shell.execute_reply.started": "2022-06-08T16:50:01.126156Z",
          "shell.execute_reply": "2022-06-08T16:50:01.200366Z"
        },
        "collapsed": true,
        "jupyter": {
          "outputs_hidden": true
        },
        "trusted": true,
        "id": "cJYZuM-yhNyR",
        "outputId": "2eca23f2-e726-44c4-d9a1-746ff6935186"
      },
      "execution_count": null,
      "outputs": [
        {
          "name": "stderr",
          "text": "/opt/conda/lib/python3.7/site-packages/keras/engine/training.py:2035: UserWarning: `Model.predict_generator` is deprecated and will be removed in a future version. Please use `Model.predict`, which supports generators.\n  warnings.warn('`Model.predict_generator` is deprecated and '\n",
          "output_type": "stream"
        },
        {
          "execution_count": 66,
          "output_type": "execute_result",
          "data": {
            "text/plain": "array([[1.60677749e-17, 9.99999881e-01, 3.15207091e-15, 7.99579851e-08],\n       [8.14272334e-25, 2.41143707e-14, 1.18193834e-12, 1.00000000e+00],\n       [1.29178043e-10, 2.65686485e-05, 7.82190568e-07, 9.99972582e-01],\n       [5.90372404e-11, 2.80300561e-09, 1.00000000e+00, 1.61066882e-09],\n       [1.42643533e-23, 1.00000000e+00, 4.10206876e-15, 6.07602679e-09],\n       [1.00000000e+00, 2.25442740e-24, 2.84235225e-15, 4.11176518e-23],\n       [2.78822972e-13, 3.83202720e-10, 1.00000000e+00, 7.44342499e-09],\n       [7.45418701e-13, 9.99974370e-01, 1.36048683e-09, 2.56414496e-05],\n       [5.16188699e-26, 1.00000000e+00, 1.71996230e-20, 1.65898302e-11],\n       [1.74320485e-06, 9.23224986e-01, 2.21254799e-04, 7.65519366e-02],\n       [8.31363600e-15, 1.40276096e-10, 1.00000000e+00, 4.27934424e-12],\n       [1.16006152e-20, 2.73915557e-09, 1.05915398e-11, 1.00000000e+00],\n       [1.63790863e-14, 1.08400282e-10, 1.00000000e+00, 3.46876542e-12],\n       [1.38792545e-01, 1.39607454e-03, 8.59730065e-01, 8.13124861e-05],\n       [4.41016527e-05, 1.51018630e-05, 1.39545114e-06, 9.99939322e-01],\n       [4.33834711e-16, 9.99999046e-01, 5.23309423e-13, 9.13716519e-07],\n       [1.00000000e+00, 9.39074885e-19, 9.83481265e-12, 1.26263542e-13],\n       [4.40233913e-22, 5.87099776e-20, 1.00000000e+00, 1.23754957e-18],\n       [3.05297583e-08, 9.99934673e-01, 1.55947681e-08, 6.52599410e-05],\n       [7.87432730e-10, 9.88597512e-01, 1.45498552e-06, 1.14009762e-02],\n       [1.92671070e-08, 9.40230209e-04, 4.41336670e-05, 9.99015570e-01],\n       [6.66271983e-14, 2.80223230e-06, 4.06707723e-11, 9.99997139e-01],\n       [1.00000000e+00, 3.27934513e-10, 4.66752331e-11, 5.86067583e-11],\n       [1.00000000e+00, 1.20937594e-17, 5.05511244e-10, 6.09676485e-15],\n       [5.88461269e-26, 3.86599997e-19, 1.00000000e+00, 9.18576901e-22],\n       [3.26491814e-16, 1.00000000e+00, 3.96775711e-14, 3.45342421e-08],\n       [1.00000000e+00, 2.06629478e-31, 3.56116143e-18, 7.25925351e-30],\n       [4.14359907e-10, 9.52122136e-05, 1.61701749e-07, 9.99904633e-01],\n       [9.84649068e-06, 7.10360822e-04, 1.45474048e-02, 9.84732330e-01],\n       [2.66820827e-13, 9.99789298e-01, 7.81532663e-07, 2.09961581e-04],\n       [9.50537479e-12, 5.24760721e-11, 1.00000000e+00, 2.19948748e-09],\n       [1.91631888e-09, 9.99995232e-01, 7.67035768e-09, 4.77318054e-06],\n       [1.28549247e-20, 1.97632153e-13, 1.00000000e+00, 1.60429345e-14],\n       [1.06966699e-10, 5.34637094e-01, 1.40653981e-07, 4.65362728e-01],\n       [9.98077154e-01, 7.69014644e-11, 1.92278088e-03, 2.31314537e-10],\n       [9.82076309e-10, 3.22130742e-04, 2.11983689e-07, 9.99677658e-01],\n       [3.52419786e-12, 3.30372073e-04, 1.28187821e-06, 9.99668360e-01],\n       [1.00000000e+00, 4.13762205e-13, 5.02734849e-08, 1.64247616e-10],\n       [9.97861445e-01, 1.53916835e-09, 2.13435898e-03, 4.15863951e-06],\n       [1.00000000e+00, 1.52266057e-16, 2.62804084e-10, 5.32256632e-14],\n       [4.78000572e-09, 7.25222460e-04, 9.99268711e-01, 6.05072591e-06],\n       [1.00000000e+00, 5.34632348e-18, 1.79761239e-09, 1.67433987e-15],\n       [5.98042622e-12, 2.07435082e-08, 1.00000000e+00, 1.86029747e-09],\n       [1.00000000e+00, 4.60790479e-33, 3.51424312e-23, 3.19483154e-28],\n       [3.12007360e-05, 9.05099213e-01, 2.86971335e-04, 9.45826173e-02],\n       [1.82734095e-06, 9.86398280e-01, 1.43315599e-04, 1.34565691e-02],\n       [2.62515201e-11, 1.58116200e-05, 1.15100565e-05, 9.99972582e-01],\n       [2.02472359e-22, 4.45487284e-17, 1.00000000e+00, 2.74537982e-20],\n       [1.87517456e-27, 1.00000000e+00, 1.18348725e-21, 1.24667204e-12],\n       [6.91328844e-14, 4.02509812e-08, 1.00000000e+00, 1.04552704e-08],\n       [1.89780490e-04, 1.49878904e-01, 8.49377692e-01, 5.53655962e-04],\n       [1.00000000e+00, 2.04463728e-17, 1.91506897e-11, 2.07073043e-15],\n       [2.15611418e-09, 2.75389245e-03, 2.52835503e-06, 9.97243643e-01],\n       [4.64547212e-29, 6.07329900e-22, 1.00000000e+00, 5.94536570e-22],\n       [5.22667172e-08, 1.37497531e-03, 2.30869598e-04, 9.98394072e-01],\n       [2.15306908e-17, 1.26098790e-15, 1.00000000e+00, 2.15014930e-15],\n       [1.00000000e+00, 2.34739210e-24, 9.09137403e-13, 3.51227507e-22],\n       [1.39301755e-16, 9.99998450e-01, 3.89500134e-11, 1.51114796e-06],\n       [6.03639253e-21, 1.00000000e+00, 4.37379571e-16, 2.88286941e-08],\n       [1.46966652e-17, 8.80634744e-14, 1.00000000e+00, 1.02332490e-13],\n       [6.24579649e-16, 2.30430031e-09, 1.34355913e-08, 1.00000000e+00],\n       [1.33358058e-17, 1.00000000e+00, 4.17747759e-13, 7.98005662e-09],\n       [1.61596501e-15, 9.99974728e-01, 3.28257031e-15, 2.52901191e-05],\n       [9.99127924e-01, 2.41212433e-07, 8.71747383e-04, 4.56089957e-08],\n       [5.08677056e-09, 6.25722634e-04, 3.90601329e-09, 9.99374330e-01],\n       [1.27476486e-26, 1.00000000e+00, 6.29160101e-20, 1.82469057e-14],\n       [1.00965644e-05, 4.46896628e-03, 9.93298769e-01, 2.22208886e-03],\n       [9.99999881e-01, 4.66502930e-19, 1.49885636e-07, 1.74240484e-17],\n       [8.95171270e-15, 5.71148684e-11, 1.00000000e+00, 2.08736604e-11],\n       [2.34622421e-05, 3.63788009e-03, 5.40543479e-05, 9.96284604e-01],\n       [7.39527417e-09, 1.42145582e-04, 3.28284955e-08, 9.99857783e-01],\n       [1.00000000e+00, 1.02007235e-17, 2.29663684e-11, 1.12761611e-15],\n       [8.96874650e-20, 1.00000000e+00, 3.50521874e-16, 1.76112180e-10],\n       [2.84177131e-12, 3.28082865e-06, 4.16676994e-06, 9.99992490e-01],\n       [7.27696495e-13, 2.44992352e-05, 5.34618660e-09, 9.99975443e-01],\n       [3.34209634e-16, 9.99998689e-01, 2.59152977e-11, 1.29383500e-06],\n       [2.54188701e-11, 8.96913552e-05, 5.89403385e-07, 9.99909759e-01],\n       [1.15529616e-28, 1.00000000e+00, 9.48203146e-20, 8.16548055e-13],\n       [1.05733921e-30, 1.14492823e-22, 1.00000000e+00, 4.12757047e-25],\n       [1.48126617e-12, 9.99993443e-01, 2.43785764e-12, 6.51654136e-06],\n       [8.67204522e-19, 6.06747708e-10, 1.63249969e-11, 1.00000000e+00],\n       [9.99706685e-07, 8.24948493e-03, 1.20140658e-06, 9.91748333e-01],\n       [8.67342169e-05, 9.13639069e-01, 2.36765540e-04, 8.60374868e-02],\n       [9.14690531e-07, 2.25576878e-04, 3.05516920e-07, 9.99773204e-01],\n       [1.00000000e+00, 6.38850691e-21, 8.29041809e-16, 1.89941247e-22],\n       [2.92514308e-26, 2.95964706e-18, 1.00000000e+00, 5.59436869e-21],\n       [6.12630606e-14, 1.45642574e-07, 9.99999881e-01, 4.31215730e-09],\n       [9.99999881e-01, 1.30346491e-15, 6.96783644e-08, 1.67532297e-12],\n       [3.58309438e-21, 2.51800195e-15, 1.00000000e+00, 3.13705462e-14],\n       [2.66636985e-20, 1.08253944e-11, 1.00000000e+00, 3.29426807e-12],\n       [6.16219571e-20, 1.00000000e+00, 3.10450577e-15, 1.66800507e-09],\n       [1.89780490e-04, 1.49878904e-01, 8.49377692e-01, 5.53655962e-04],\n       [1.23157942e-11, 2.11445644e-04, 4.52578342e-06, 9.99784052e-01],\n       [6.19105106e-15, 2.11855837e-12, 1.00000000e+00, 4.02479829e-12],\n       [1.00000000e+00, 5.78069493e-12, 6.59878319e-10, 1.29251570e-14],\n       [3.39725435e-18, 9.27146727e-12, 1.00000000e+00, 1.77271907e-13],\n       [6.30242198e-24, 1.00000000e+00, 2.36077735e-20, 3.35833375e-11],\n       [1.00000000e+00, 6.41684864e-18, 7.34789494e-14, 5.29559994e-18],\n       [1.41078017e-15, 1.00000000e+00, 9.34539121e-13, 1.51428505e-08],\n       [1.00000000e+00, 3.83726399e-25, 1.22203104e-18, 4.20994308e-25],\n       [9.99418020e-01, 4.18496302e-06, 5.77593513e-04, 2.89148261e-07],\n       [4.28983837e-01, 5.70936382e-01, 7.96503955e-05, 1.32462688e-07],\n       [8.60376901e-14, 9.99995351e-01, 1.28104246e-11, 4.64760069e-06],\n       [2.04969056e-16, 2.99870457e-08, 8.53363957e-08, 9.99999881e-01],\n       [1.12971096e-18, 1.76881656e-07, 8.60671262e-14, 9.99999881e-01],\n       [1.00000000e+00, 1.72694261e-22, 1.19183500e-17, 1.03775190e-21]],\n      dtype=float32)"
          },
          "metadata": {}
        }
      ]
    },
    {
      "cell_type": "code",
      "source": [
        "predicted_class = np.argmax(predictions, axis = 1)\n",
        "predicted_class"
      ],
      "metadata": {
        "execution": {
          "iopub.status.busy": "2022-06-08T16:13:00.894826Z",
          "iopub.execute_input": "2022-06-08T16:13:00.895106Z",
          "iopub.status.idle": "2022-06-08T16:13:00.901412Z",
          "shell.execute_reply.started": "2022-06-08T16:13:00.895075Z",
          "shell.execute_reply": "2022-06-08T16:13:00.900619Z"
        },
        "trusted": true,
        "id": "gMSimv3AhNyR",
        "outputId": "c959bebf-20e0-47dd-c403-343c3179ff67"
      },
      "execution_count": null,
      "outputs": [
        {
          "execution_count": 36,
          "output_type": "execute_result",
          "data": {
            "text/plain": "array([3, 1, 3, 1, 2, 1, 3, 3, 1, 3, 0, 2, 2, 0, 2, 2, 1, 2, 3, 2, 0, 2,\n       1, 0, 1, 0, 0, 1, 1, 3, 3, 0, 1, 3, 3, 2, 1, 0, 2, 1, 1, 1, 2, 3,\n       2, 2, 3, 1, 0, 2, 1, 1, 3, 3, 0, 0, 2, 1, 0, 3, 3, 1, 2, 1, 3, 1,\n       2, 0, 2, 3, 3, 0, 1, 3, 2, 1, 0, 3, 3, 0, 0, 0, 2, 0, 2, 0, 1, 1,\n       3, 2, 1, 2, 2, 0, 3, 2, 3, 2, 0, 1, 1, 2, 3, 1, 1, 0])"
          },
          "metadata": {}
        }
      ]
    },
    {
      "cell_type": "code",
      "source": [
        "from sklearn.metrics import confusion_matrix\n",
        "from sklearn.model_selection import train_test_split"
      ],
      "metadata": {
        "execution": {
          "iopub.status.busy": "2022-06-08T16:38:40.808283Z",
          "iopub.execute_input": "2022-06-08T16:38:40.808619Z",
          "iopub.status.idle": "2022-06-08T16:38:40.828398Z",
          "shell.execute_reply.started": "2022-06-08T16:38:40.808582Z",
          "shell.execute_reply": "2022-06-08T16:38:40.827659Z"
        },
        "trusted": true,
        "id": "wjFITLUVhNyS"
      },
      "execution_count": null,
      "outputs": []
    },
    {
      "cell_type": "code",
      "source": [
        "prob = plant_model.predict_generator(test_ds)\n",
        "y_preds = prob.argmax(axis = 1)"
      ],
      "metadata": {
        "execution": {
          "iopub.status.busy": "2022-06-08T16:45:17.196635Z",
          "iopub.execute_input": "2022-06-08T16:45:17.196888Z",
          "iopub.status.idle": "2022-06-08T16:45:17.264861Z",
          "shell.execute_reply.started": "2022-06-08T16:45:17.196859Z",
          "shell.execute_reply": "2022-06-08T16:45:17.264143Z"
        },
        "trusted": true,
        "id": "ykKWSiNohNyS",
        "outputId": "c16651ba-5a1a-43d6-ef81-bd476b31fdfc"
      },
      "execution_count": null,
      "outputs": [
        {
          "name": "stderr",
          "text": "/opt/conda/lib/python3.7/site-packages/keras/engine/training.py:2035: UserWarning: `Model.predict_generator` is deprecated and will be removed in a future version. Please use `Model.predict`, which supports generators.\n  warnings.warn('`Model.predict_generator` is deprecated and '\n",
          "output_type": "stream"
        }
      ]
    },
    {
      "cell_type": "code",
      "source": [
        "y_preds"
      ],
      "metadata": {
        "execution": {
          "iopub.status.busy": "2022-06-08T16:45:18.024323Z",
          "iopub.execute_input": "2022-06-08T16:45:18.025066Z",
          "iopub.status.idle": "2022-06-08T16:45:18.030886Z",
          "shell.execute_reply.started": "2022-06-08T16:45:18.025021Z",
          "shell.execute_reply": "2022-06-08T16:45:18.030239Z"
        },
        "trusted": true,
        "id": "a4LKvdjchNyS",
        "outputId": "08126020-43d5-409d-e63d-ec588c0840fb"
      },
      "execution_count": null,
      "outputs": [
        {
          "execution_count": 59,
          "output_type": "execute_result",
          "data": {
            "text/plain": "array([3, 1, 2, 0, 2, 3, 3, 0, 1, 3, 3, 1, 3, 1, 2, 1, 3, 3, 1, 3, 0, 2,\n       2, 0, 2, 2, 1, 2, 3, 2, 0, 2, 1, 0, 1, 0, 0, 1, 1, 3, 3, 0, 1, 3,\n       3, 2, 1, 0, 2, 1, 1, 1, 2, 3, 2, 2, 3, 1, 0, 2, 1, 1, 3, 3, 0, 0,\n       2, 1, 0, 3, 3, 1, 2, 1, 2, 1, 0, 3, 3, 0, 0, 0, 2, 0, 2, 0, 1, 1,\n       3, 2, 1, 2, 2, 0, 3, 2, 3, 2, 0, 1, 1, 2, 3, 1, 1, 0])"
          },
          "metadata": {}
        }
      ]
    },
    {
      "cell_type": "code",
      "source": [
        "y_labels = []\n",
        "\n",
        "for images, labels in test_ds.unbatch():\n",
        "  y_labels.append(labels.numpy().argmax())\n",
        "y_labels[:10]"
      ],
      "metadata": {
        "execution": {
          "iopub.status.busy": "2022-06-08T16:42:34.323798Z",
          "iopub.execute_input": "2022-06-08T16:42:34.324082Z",
          "iopub.status.idle": "2022-06-08T16:42:34.373668Z",
          "shell.execute_reply.started": "2022-06-08T16:42:34.324051Z",
          "shell.execute_reply": "2022-06-08T16:42:34.372855Z"
        },
        "trusted": true,
        "id": "-0-OmDwihNyS",
        "outputId": "37748f9b-abcc-4196-f844-4b9d54162e20"
      },
      "execution_count": null,
      "outputs": [
        {
          "execution_count": 52,
          "output_type": "execute_result",
          "data": {
            "text/plain": "[0, 0, 0, 0, 0, 0, 0, 0, 0, 0]"
          },
          "metadata": {}
        }
      ]
    },
    {
      "cell_type": "code",
      "source": [
        "from sklearn.metrics import accuracy_score, confusion_matrix, classification_report\n",
        "accuracy_score(y_labels, predicted_class)"
      ],
      "metadata": {
        "execution": {
          "iopub.status.busy": "2022-06-08T16:46:47.115137Z",
          "iopub.execute_input": "2022-06-08T16:46:47.115797Z",
          "iopub.status.idle": "2022-06-08T16:46:47.122120Z",
          "shell.execute_reply.started": "2022-06-08T16:46:47.115758Z",
          "shell.execute_reply": "2022-06-08T16:46:47.121380Z"
        },
        "trusted": true,
        "id": "upaeIbY5hNyT",
        "outputId": "07b69f78-1dec-4f15-bfa8-6d84d516300f"
      },
      "execution_count": null,
      "outputs": [
        {
          "execution_count": 65,
          "output_type": "execute_result",
          "data": {
            "text/plain": "0.2169811320754717"
          },
          "metadata": {}
        }
      ]
    },
    {
      "cell_type": "code",
      "source": [
        "from tensorflow.keras.preprocessing.image import ImageDataGenerator , load_img\n",
        "\n",
        "test_datagen=ImageDataGenerator(rescale=1./255)\n",
        "\n",
        "\n",
        "test123=test_datagen.flow_from_directory('../input/cotton-disease-dataset/Cotton Disease/test',\n",
        "                                               target_size=(224,224),\n",
        "                                               batch_size=32,\n",
        "                                               class_mode='categorical')"
      ],
      "metadata": {
        "execution": {
          "iopub.status.busy": "2022-06-08T16:54:16.279092Z",
          "iopub.execute_input": "2022-06-08T16:54:16.279660Z",
          "iopub.status.idle": "2022-06-08T16:54:16.415468Z",
          "shell.execute_reply.started": "2022-06-08T16:54:16.279624Z",
          "shell.execute_reply": "2022-06-08T16:54:16.414708Z"
        },
        "trusted": true,
        "id": "s-L8m2SkhNyT",
        "outputId": "8c3b259a-e165-4811-cb26-9c50648d2249"
      },
      "execution_count": null,
      "outputs": [
        {
          "name": "stdout",
          "text": "Found 106 images belonging to 4 classes.\n",
          "output_type": "stream"
        }
      ]
    },
    {
      "cell_type": "code",
      "source": [
        "\n",
        "\n",
        "predicted=plant_model.predict(test123[0][0])\n",
        "\n"
      ],
      "metadata": {
        "execution": {
          "iopub.status.busy": "2022-06-08T16:54:58.144725Z",
          "iopub.execute_input": "2022-06-08T16:54:58.144995Z",
          "iopub.status.idle": "2022-06-08T16:54:59.470745Z",
          "shell.execute_reply.started": "2022-06-08T16:54:58.144964Z",
          "shell.execute_reply": "2022-06-08T16:54:59.469998Z"
        },
        "trusted": true,
        "id": "XFjzSaQJhNyT"
      },
      "execution_count": null,
      "outputs": []
    },
    {
      "cell_type": "code",
      "source": [
        "actual=[]\n",
        "for i in test123[0][1]:\n",
        "  actual.append(np.argmax(i))\n",
        "predict=[]\n",
        "for i in predicted:\n",
        "  predict.append(np.argmax(i))"
      ],
      "metadata": {
        "execution": {
          "iopub.status.busy": "2022-06-08T16:55:23.405054Z",
          "iopub.execute_input": "2022-06-08T16:55:23.405717Z",
          "iopub.status.idle": "2022-06-08T16:55:24.454791Z",
          "shell.execute_reply.started": "2022-06-08T16:55:23.405680Z",
          "shell.execute_reply": "2022-06-08T16:55:24.454052Z"
        },
        "trusted": true,
        "id": "939OoQ7rhNyb"
      },
      "execution_count": null,
      "outputs": []
    },
    {
      "cell_type": "code",
      "source": [
        "from sklearn.metrics import accuracy_score\n",
        "accuracy_score(actual,predict)"
      ],
      "metadata": {
        "execution": {
          "iopub.status.busy": "2022-06-08T16:55:34.671760Z",
          "iopub.execute_input": "2022-06-08T16:55:34.672031Z",
          "iopub.status.idle": "2022-06-08T16:55:34.682561Z",
          "shell.execute_reply.started": "2022-06-08T16:55:34.672000Z",
          "shell.execute_reply": "2022-06-08T16:55:34.680982Z"
        },
        "trusted": true,
        "id": "nOvbLDjEhNyc",
        "outputId": "0628beb2-ebb4-4c0d-b8ae-c8b9a85e7e59"
      },
      "execution_count": null,
      "outputs": [
        {
          "execution_count": 77,
          "output_type": "execute_result",
          "data": {
            "text/plain": "0.21875"
          },
          "metadata": {}
        }
      ]
    },
    {
      "cell_type": "code",
      "source": [],
      "metadata": {
        "id": "PRo_5TD7hNyc"
      },
      "execution_count": null,
      "outputs": []
    }
  ]
}